{
 "cells": [
  {
   "cell_type": "markdown",
   "id": "7cbe9c6e-a564-432e-8b77-40f3b2e533e0",
   "metadata": {},
   "source": [
    "# Random"
   ]
  },
  {
   "cell_type": "code",
   "execution_count": 2,
   "id": "839a0012-2657-4f77-90bc-bff36cea0b90",
   "metadata": {},
   "outputs": [],
   "source": [
    "coin = ['head', 'tail']"
   ]
  },
  {
   "cell_type": "code",
   "execution_count": 6,
   "id": "3a940e2c-929f-4c72-88d1-4e8c5f4b1dc6",
   "metadata": {},
   "outputs": [
    {
     "data": {
      "text/plain": [
       "('head', 'tail')"
      ]
     },
     "execution_count": 6,
     "metadata": {},
     "output_type": "execute_result"
    }
   ],
   "source": [
    "coin[0], coin[1]"
   ]
  },
  {
   "cell_type": "code",
   "execution_count": 7,
   "id": "b9501f87-5ee5-426d-bd69-88d613bc6fe6",
   "metadata": {},
   "outputs": [],
   "source": [
    "import random"
   ]
  },
  {
   "cell_type": "code",
   "execution_count": 85,
   "id": "027677f9-428f-421a-9197-10842f871b66",
   "metadata": {},
   "outputs": [
    {
     "data": {
      "text/plain": [
       "'tail'"
      ]
     },
     "execution_count": 85,
     "metadata": {},
     "output_type": "execute_result"
    }
   ],
   "source": [
    "random.choice(coin)"
   ]
  },
  {
   "cell_type": "code",
   "execution_count": 86,
   "id": "d48f9df4-70b6-4cdd-93c1-36dc5187ac70",
   "metadata": {},
   "outputs": [
    {
     "data": {
      "text/plain": [
       "[1, 2, 3, 4, 5, 6]"
      ]
     },
     "execution_count": 86,
     "metadata": {},
     "output_type": "execute_result"
    }
   ],
   "source": [
    "dice = list(range(1, 7))\n",
    "dice"
   ]
  },
  {
   "cell_type": "code",
   "execution_count": 87,
   "id": "112bf6bb-3f0e-4865-80ef-8b35135c0805",
   "metadata": {},
   "outputs": [
    {
     "data": {
      "text/plain": [
       "3"
      ]
     },
     "execution_count": 87,
     "metadata": {},
     "output_type": "execute_result"
    }
   ],
   "source": [
    "random.choice(dice)"
   ]
  },
  {
   "cell_type": "markdown",
   "id": "1d598930-3f48-404d-a364-4499b118f06b",
   "metadata": {},
   "source": [
    "# Functions\n",
    "\n",
    "- takes parameter, returns variable\n",
    "- takes parameter, don't return variable\n",
    "- don't take parameter, return variable\n",
    "- don't take parameter, don't return variable"
   ]
  },
  {
   "cell_type": "code",
   "execution_count": 64,
   "id": "3dbbbd66-e341-4a7c-a6ce-941680baffbc",
   "metadata": {},
   "outputs": [],
   "source": [
    "def flip_coin(var):\n",
    "    twice = var*2\n",
    "    return twice"
   ]
  },
  {
   "cell_type": "code",
   "execution_count": 76,
   "id": "4081d734-4834-4e60-9d1c-0e5b9293e86e",
   "metadata": {},
   "outputs": [
    {
     "data": {
      "text/plain": [
       "6"
      ]
     },
     "execution_count": 76,
     "metadata": {},
     "output_type": "execute_result"
    }
   ],
   "source": [
    "flip_coin(3)"
   ]
  },
  {
   "cell_type": "code",
   "execution_count": 68,
   "id": "e38d1149-e176-4fa4-b9a6-d417598c7ff1",
   "metadata": {},
   "outputs": [],
   "source": [
    "def roll_dice(var):\n",
    "    output = var*2 "
   ]
  },
  {
   "cell_type": "code",
   "execution_count": 69,
   "id": "ff323c89-b88b-43d6-a60e-1f7b9e9f0c91",
   "metadata": {},
   "outputs": [],
   "source": [
    "roll_dice(5)"
   ]
  },
  {
   "cell_type": "code",
   "execution_count": 72,
   "id": "70663cfc-bced-46b0-95a0-963731601793",
   "metadata": {},
   "outputs": [],
   "source": [
    "def abc ():\n",
    "    twice=5*3\n",
    "    return twice "
   ]
  },
  {
   "cell_type": "code",
   "execution_count": 77,
   "id": "20bd8431-64af-470d-8136-03b339ad2e0e",
   "metadata": {},
   "outputs": [
    {
     "data": {
      "text/plain": [
       "15"
      ]
     },
     "execution_count": 77,
     "metadata": {},
     "output_type": "execute_result"
    }
   ],
   "source": [
    "abc()"
   ]
  },
  {
   "cell_type": "code",
   "execution_count": 78,
   "id": "d9ce5a1c-dd0a-4a10-b1a0-3fe1e8dab8cd",
   "metadata": {},
   "outputs": [],
   "source": [
    "def efg ():\n",
    "    pass"
   ]
  },
  {
   "cell_type": "code",
   "execution_count": 79,
   "id": "d7d98d5d-ddba-41b1-b211-3e542ca9afd5",
   "metadata": {},
   "outputs": [],
   "source": [
    "efg()"
   ]
  },
  {
   "cell_type": "code",
   "execution_count": 89,
   "id": "35a2a05c-f5c4-4aeb-8949-5a70a3f6808f",
   "metadata": {},
   "outputs": [],
   "source": [
    "def roller_dice ():\n",
    "    twice =4*1 \n",
    "    return twice "
   ]
  },
  {
   "cell_type": "code",
   "execution_count": 90,
   "id": "be254320-403f-4e98-b0aa-4c084d6d100a",
   "metadata": {},
   "outputs": [
    {
     "data": {
      "text/plain": [
       "4"
      ]
     },
     "execution_count": 90,
     "metadata": {},
     "output_type": "execute_result"
    }
   ],
   "source": [
    "roller_dice() "
   ]
  },
  {
   "cell_type": "code",
   "execution_count": 144,
   "id": "b47dccb6-a425-4df6-ab59-7604b78aee38",
   "metadata": {},
   "outputs": [],
   "source": [
    "def roller_dice ():\n",
    "    import random \n",
    "    dice = [1,2,3,4,5,6]\n",
    "    output = random.choice (dice)\n",
    "    return output "
   ]
  },
  {
   "cell_type": "code",
   "execution_count": 145,
   "id": "0402ddc5-98b3-40ba-a72b-b3290bb3cf6b",
   "metadata": {},
   "outputs": [
    {
     "data": {
      "text/plain": [
       "2"
      ]
     },
     "execution_count": 145,
     "metadata": {},
     "output_type": "execute_result"
    }
   ],
   "source": [
    "roller_dice ()"
   ]
  },
  {
   "cell_type": "code",
   "execution_count": 148,
   "id": "ce87c025-7528-4345-9953-17383c5c120c",
   "metadata": {},
   "outputs": [],
   "source": [
    "def head_tail ():\n",
    "    import random \n",
    "    head_tail = ['head', 'tail']\n",
    "    output = random .choice (head_tail)\n",
    "    return output "
   ]
  },
  {
   "cell_type": "code",
   "execution_count": 158,
   "id": "24e13875-e016-4c59-b7f6-ba46c46dbe07",
   "metadata": {},
   "outputs": [
    {
     "data": {
      "text/plain": [
       "'tail'"
      ]
     },
     "execution_count": 158,
     "metadata": {},
     "output_type": "execute_result"
    }
   ],
   "source": [
    "head_tail()"
   ]
  },
  {
   "cell_type": "code",
   "execution_count": 31,
   "id": "0e935ff1-03fa-4146-8189-774afe2ee7c6",
   "metadata": {},
   "outputs": [],
   "source": [
    "def sun_moon (star_comets):\n",
    "    import random \n",
    "    output = random .choice(star_comets)\n",
    "    return   output "
   ]
  },
  {
   "cell_type": "code",
   "execution_count": 124,
   "id": "cb8fc434-3ddb-43eb-8cf7-5d51715a5b8c",
   "metadata": {},
   "outputs": [
    {
     "data": {
      "text/plain": [
       "5"
      ]
     },
     "execution_count": 124,
     "metadata": {},
     "output_type": "execute_result"
    }
   ],
   "source": [
    "dice = [1,2,3,4,5,6]\n",
    "sun_moon (dice)"
   ]
  },
  {
   "cell_type": "code",
   "execution_count": 84,
   "id": "651fac2e-2227-4d33-8e7f-f524a483b391",
   "metadata": {},
   "outputs": [
    {
     "data": {
      "text/plain": [
       "'head'"
      ]
     },
     "execution_count": 84,
     "metadata": {},
     "output_type": "execute_result"
    }
   ],
   "source": [
    "coin = ['head', 'tail']\n",
    "sun_moon(coin)"
   ]
  },
  {
   "cell_type": "code",
   "execution_count": 120,
   "id": "f2c3f872-d082-4a71-a9ba-59008faf617b",
   "metadata": {},
   "outputs": [
    {
     "data": {
      "text/plain": [
       "'venus'"
      ]
     },
     "execution_count": 120,
     "metadata": {},
     "output_type": "execute_result"
    }
   ],
   "source": [
    "planet =[\"mercury\",\"venus\",\"earth\",\"mars\",\"jupiter\",\"saturn\",\"uranus\",\"neptune\",\"pluto\"]\n",
    "sun_moon (planet)"
   ]
  },
  {
   "cell_type": "markdown",
   "id": "f019dcc2-0a7f-43bf-9a35-3264cc11a7cc",
   "metadata": {},
   "source": [
    "# for loop"
   ]
  },
  {
   "cell_type": "code",
   "execution_count": 121,
   "id": "9ec7f217-7cf1-468e-a50f-3ead222acf71",
   "metadata": {},
   "outputs": [
    {
     "data": {
      "text/plain": [
       "['mercury',\n",
       " 'venus',\n",
       " 'earth',\n",
       " 'mars',\n",
       " 'jupiter',\n",
       " 'saturn',\n",
       " 'uranus',\n",
       " 'neptune',\n",
       " 'pluto']"
      ]
     },
     "execution_count": 121,
     "metadata": {},
     "output_type": "execute_result"
    }
   ],
   "source": [
    "planet"
   ]
  },
  {
   "cell_type": "code",
   "execution_count": 122,
   "id": "ac9d62ca-2935-4057-aa63-735b2f0184a9",
   "metadata": {},
   "outputs": [
    {
     "name": "stdout",
     "output_type": "stream",
     "text": [
      "mercury\n",
      "venus\n",
      "earth\n",
      "mars\n",
      "jupiter\n",
      "saturn\n",
      "uranus\n",
      "neptune\n",
      "pluto\n"
     ]
    }
   ],
   "source": [
    "for i in planet:\n",
    "    print(i)"
   ]
  },
  {
   "cell_type": "code",
   "execution_count": 125,
   "id": "15e51f17-455a-44b7-a1f0-2c786aac618c",
   "metadata": {},
   "outputs": [
    {
     "data": {
      "text/plain": [
       "[1, 2, 3, 4, 5, 6]"
      ]
     },
     "execution_count": 125,
     "metadata": {},
     "output_type": "execute_result"
    }
   ],
   "source": [
    "dice"
   ]
  },
  {
   "cell_type": "code",
   "execution_count": 126,
   "id": "f609d4b4-93ba-4657-84fb-be1e3d640411",
   "metadata": {},
   "outputs": [
    {
     "name": "stdout",
     "output_type": "stream",
     "text": [
      "1\n",
      "2\n",
      "3\n",
      "4\n",
      "5\n",
      "6\n"
     ]
    }
   ],
   "source": [
    "for i in dice:\n",
    "    print(i)"
   ]
  },
  {
   "cell_type": "code",
   "execution_count": 127,
   "id": "68def2f9-58b0-47aa-bed0-a7a71e0fd556",
   "metadata": {},
   "outputs": [
    {
     "name": "stdout",
     "output_type": "stream",
     "text": [
      "2\n",
      "3\n",
      "4\n",
      "5\n",
      "6\n",
      "7\n"
     ]
    }
   ],
   "source": [
    "for i in dice:\n",
    "    print(i+1)"
   ]
  },
  {
   "cell_type": "code",
   "execution_count": 128,
   "id": "13e2ef12-50fe-4491-b32c-9bd99e8118eb",
   "metadata": {},
   "outputs": [
    {
     "name": "stdout",
     "output_type": "stream",
     "text": [
      "2\n",
      "4\n",
      "6\n",
      "8\n",
      "10\n",
      "12\n"
     ]
    }
   ],
   "source": [
    "for i in dice:\n",
    "    print(i*2)"
   ]
  },
  {
   "cell_type": "code",
   "execution_count": 129,
   "id": "449bea83-0759-41bb-8fd2-6945dcb8504a",
   "metadata": {},
   "outputs": [
    {
     "name": "stdout",
     "output_type": "stream",
     "text": [
      "0.3333333333333333\n",
      "0.6666666666666666\n",
      "1.0\n",
      "1.3333333333333333\n",
      "1.6666666666666667\n",
      "2.0\n"
     ]
    }
   ],
   "source": [
    "for i in dice:\n",
    "    print(i/3)"
   ]
  },
  {
   "cell_type": "code",
   "execution_count": 130,
   "id": "90dd02dc-5372-4ba7-b859-c4474d904cfe",
   "metadata": {},
   "outputs": [
    {
     "data": {
      "text/plain": [
       "[]"
      ]
     },
     "execution_count": 130,
     "metadata": {},
     "output_type": "execute_result"
    }
   ],
   "source": [
    "a = []\n",
    "a"
   ]
  },
  {
   "cell_type": "code",
   "execution_count": 131,
   "id": "7012d742-c22d-4a6c-9dd6-75406fd665bb",
   "metadata": {},
   "outputs": [
    {
     "data": {
      "text/plain": [
       "0"
      ]
     },
     "execution_count": 131,
     "metadata": {},
     "output_type": "execute_result"
    }
   ],
   "source": [
    "len(a)"
   ]
  },
  {
   "cell_type": "code",
   "execution_count": 132,
   "id": "4cb09436-bfae-421a-a145-bbb055d5b203",
   "metadata": {},
   "outputs": [
    {
     "data": {
      "text/plain": [
       "6"
      ]
     },
     "execution_count": 132,
     "metadata": {},
     "output_type": "execute_result"
    }
   ],
   "source": [
    "len(dice)"
   ]
  },
  {
   "cell_type": "code",
   "execution_count": 133,
   "id": "785d7783-c5cc-4812-b503-1473455bec3c",
   "metadata": {},
   "outputs": [
    {
     "data": {
      "text/plain": [
       "9"
      ]
     },
     "execution_count": 133,
     "metadata": {},
     "output_type": "execute_result"
    }
   ],
   "source": [
    "len(planet)"
   ]
  },
  {
   "cell_type": "code",
   "execution_count": 134,
   "id": "a3e49a24-566d-4f89-82b3-be98bb8866d1",
   "metadata": {},
   "outputs": [
    {
     "data": {
      "text/plain": [
       "2"
      ]
     },
     "execution_count": 134,
     "metadata": {},
     "output_type": "execute_result"
    }
   ],
   "source": [
    "len(coin)"
   ]
  },
  {
   "cell_type": "code",
   "execution_count": 135,
   "id": "5f467e0d-1766-4e51-bf31-df2da4bd05fa",
   "metadata": {},
   "outputs": [
    {
     "data": {
      "text/plain": [
       "[]"
      ]
     },
     "execution_count": 135,
     "metadata": {},
     "output_type": "execute_result"
    }
   ],
   "source": [
    "a"
   ]
  },
  {
   "cell_type": "code",
   "execution_count": 136,
   "id": "5c3bfde3-472e-459d-b89e-54e51c92c255",
   "metadata": {},
   "outputs": [],
   "source": [
    "a.append('hello')"
   ]
  },
  {
   "cell_type": "code",
   "execution_count": 137,
   "id": "f07c0f11-49a8-4455-a0a7-4762403ef0b5",
   "metadata": {},
   "outputs": [
    {
     "data": {
      "text/plain": [
       "['hello']"
      ]
     },
     "execution_count": 137,
     "metadata": {},
     "output_type": "execute_result"
    }
   ],
   "source": [
    "a"
   ]
  },
  {
   "cell_type": "code",
   "execution_count": 138,
   "id": "5d709008-1196-465c-98b2-d29488524ff0",
   "metadata": {},
   "outputs": [
    {
     "data": {
      "text/plain": [
       "1"
      ]
     },
     "execution_count": 138,
     "metadata": {},
     "output_type": "execute_result"
    }
   ],
   "source": [
    "len(a)"
   ]
  },
  {
   "cell_type": "code",
   "execution_count": 139,
   "id": "9935a344-43a7-4694-8d96-36b31b2af866",
   "metadata": {},
   "outputs": [
    {
     "data": {
      "text/plain": [
       "[1, 2, 3, 4, 5, 6]"
      ]
     },
     "execution_count": 139,
     "metadata": {},
     "output_type": "execute_result"
    }
   ],
   "source": [
    "dice"
   ]
  },
  {
   "cell_type": "code",
   "execution_count": 140,
   "id": "43c50770-8cd4-439f-9e5f-b8cdae81838f",
   "metadata": {},
   "outputs": [],
   "source": [
    "dice.append(7)"
   ]
  },
  {
   "cell_type": "code",
   "execution_count": 141,
   "id": "126cf0ab-bcac-4c42-9e07-f5e25564efdd",
   "metadata": {},
   "outputs": [
    {
     "data": {
      "text/plain": [
       "[1, 2, 3, 4, 5, 6, 7]"
      ]
     },
     "execution_count": 141,
     "metadata": {},
     "output_type": "execute_result"
    }
   ],
   "source": [
    "dice"
   ]
  },
  {
   "cell_type": "code",
   "execution_count": 142,
   "id": "e8433d9c-ed66-4ef7-ba6d-a3f1a7504e22",
   "metadata": {},
   "outputs": [
    {
     "data": {
      "text/plain": [
       "7"
      ]
     },
     "execution_count": 142,
     "metadata": {},
     "output_type": "execute_result"
    }
   ],
   "source": [
    "len(dice)"
   ]
  },
  {
   "cell_type": "code",
   "execution_count": 143,
   "id": "b0d24c1d-415d-49f4-81fb-f2a0c9097828",
   "metadata": {},
   "outputs": [
    {
     "data": {
      "text/plain": [
       "['mercury',\n",
       " 'venus',\n",
       " 'earth',\n",
       " 'mars',\n",
       " 'jupiter',\n",
       " 'saturn',\n",
       " 'uranus',\n",
       " 'neptune',\n",
       " 'pluto']"
      ]
     },
     "execution_count": 143,
     "metadata": {},
     "output_type": "execute_result"
    }
   ],
   "source": [
    "planet"
   ]
  },
  {
   "cell_type": "code",
   "execution_count": 144,
   "id": "7d199152-92e5-4f7a-a2f1-205dc4fe60ff",
   "metadata": {},
   "outputs": [
    {
     "data": {
      "text/plain": [
       "'pluto'"
      ]
     },
     "execution_count": 144,
     "metadata": {},
     "output_type": "execute_result"
    }
   ],
   "source": [
    "planet.pop()"
   ]
  },
  {
   "cell_type": "code",
   "execution_count": 145,
   "id": "5dffe892-708a-4f05-9a97-18a1f22d8763",
   "metadata": {},
   "outputs": [
    {
     "data": {
      "text/plain": [
       "['mercury', 'venus', 'earth', 'mars', 'jupiter', 'saturn', 'uranus', 'neptune']"
      ]
     },
     "execution_count": 145,
     "metadata": {},
     "output_type": "execute_result"
    }
   ],
   "source": [
    "planet"
   ]
  },
  {
   "cell_type": "code",
   "execution_count": 146,
   "id": "f7cd8a46-2fe8-41f9-b8f7-b2325e251b7a",
   "metadata": {},
   "outputs": [],
   "source": [
    "for i in planet:\n",
    "    a.append(i)"
   ]
  },
  {
   "cell_type": "code",
   "execution_count": 147,
   "id": "eb873598-60c9-4eae-ada9-59753cdea5c9",
   "metadata": {},
   "outputs": [
    {
     "data": {
      "text/plain": [
       "['hello',\n",
       " 'mercury',\n",
       " 'venus',\n",
       " 'earth',\n",
       " 'mars',\n",
       " 'jupiter',\n",
       " 'saturn',\n",
       " 'uranus',\n",
       " 'neptune']"
      ]
     },
     "execution_count": 147,
     "metadata": {},
     "output_type": "execute_result"
    }
   ],
   "source": [
    "a"
   ]
  },
  {
   "cell_type": "code",
   "execution_count": 149,
   "id": "01996113-0e41-4888-8187-89e061bbad3b",
   "metadata": {},
   "outputs": [],
   "source": [
    "import time"
   ]
  },
  {
   "cell_type": "code",
   "execution_count": 150,
   "id": "97802149-401b-4bea-9c23-71c3049ff839",
   "metadata": {},
   "outputs": [
    {
     "name": "stdout",
     "output_type": "stream",
     "text": [
      "['hello', 'mercury', 'venus', 'earth', 'mars', 'jupiter', 'saturn', 'uranus', 'neptune', 1, 1]\n",
      "['hello', 'mercury', 'venus', 'earth', 'mars', 'jupiter', 'saturn', 'uranus', 'neptune', 1, 1, 2]\n",
      "['hello', 'mercury', 'venus', 'earth', 'mars', 'jupiter', 'saturn', 'uranus', 'neptune', 1, 1, 2, 3]\n",
      "['hello', 'mercury', 'venus', 'earth', 'mars', 'jupiter', 'saturn', 'uranus', 'neptune', 1, 1, 2, 3, 4]\n",
      "['hello', 'mercury', 'venus', 'earth', 'mars', 'jupiter', 'saturn', 'uranus', 'neptune', 1, 1, 2, 3, 4, 5]\n",
      "['hello', 'mercury', 'venus', 'earth', 'mars', 'jupiter', 'saturn', 'uranus', 'neptune', 1, 1, 2, 3, 4, 5, 6]\n",
      "['hello', 'mercury', 'venus', 'earth', 'mars', 'jupiter', 'saturn', 'uranus', 'neptune', 1, 1, 2, 3, 4, 5, 6, 7]\n"
     ]
    }
   ],
   "source": [
    "for i in dice:\n",
    "    a.append(i)\n",
    "    print(a)\n",
    "    time.sleep(1)"
   ]
  },
  {
   "cell_type": "code",
   "execution_count": 161,
   "id": "90385727-90e1-4167-8dd4-78270a905564",
   "metadata": {},
   "outputs": [
    {
     "data": {
      "text/plain": [
       "[]"
      ]
     },
     "execution_count": 161,
     "metadata": {},
     "output_type": "execute_result"
    }
   ],
   "source": [
    "b = []\n",
    "b"
   ]
  },
  {
   "cell_type": "code",
   "execution_count": 162,
   "id": "4dd0f45c-5b15-41b5-93e5-fb7daa0578cf",
   "metadata": {},
   "outputs": [
    {
     "data": {
      "text/plain": [
       "[1, 2, 3, 4, 5, 6, 7]"
      ]
     },
     "execution_count": 162,
     "metadata": {},
     "output_type": "execute_result"
    }
   ],
   "source": [
    "dice"
   ]
  },
  {
   "cell_type": "code",
   "execution_count": 163,
   "id": "c6ba4007-9cea-4365-970b-6ea4d38d6483",
   "metadata": {},
   "outputs": [
    {
     "name": "stdout",
     "output_type": "stream",
     "text": [
      "[1]\n",
      "[1, 2]\n",
      "[1, 2, 3]\n",
      "[1, 2, 3, 4]\n",
      "[1, 2, 3, 4, 5]\n",
      "[1, 2, 3, 4, 5, 6]\n",
      "[1, 2, 3, 4, 5, 6, 7]\n"
     ]
    }
   ],
   "source": [
    "for i in dice:\n",
    "    b.append(i)\n",
    "    print(b)\n",
    "    # time.sleep(2)"
   ]
  },
  {
   "cell_type": "code",
   "execution_count": 164,
   "id": "de17598c-cf0e-4b87-89e3-bff1bb5194b4",
   "metadata": {},
   "outputs": [
    {
     "name": "stdout",
     "output_type": "stream",
     "text": [
      "[1, 2, 3, 4, 5, 6]\n",
      "[1, 2, 3, 4, 5]\n",
      "[1, 2, 3, 4]\n",
      "[1, 2, 3]\n",
      "[1, 2]\n",
      "[1]\n",
      "[]\n"
     ]
    }
   ],
   "source": [
    "for i in range(len(b)):\n",
    "    b.pop()\n",
    "    print(b)\n",
    "    # time.sleep(2)"
   ]
  },
  {
   "cell_type": "code",
   "execution_count": 165,
   "id": "cea3eb3e-7503-461b-a8c9-47aa0f8938c8",
   "metadata": {},
   "outputs": [
    {
     "data": {
      "text/plain": [
       "['mercury', 'venus', 'earth', 'mars', 'jupiter', 'saturn', 'uranus', 'neptune']"
      ]
     },
     "execution_count": 165,
     "metadata": {},
     "output_type": "execute_result"
    }
   ],
   "source": [
    "planet"
   ]
  },
  {
   "cell_type": "code",
   "execution_count": 166,
   "id": "0b27b08e-654d-42ec-930d-79c13297688a",
   "metadata": {},
   "outputs": [
    {
     "data": {
      "text/plain": [
       "[]"
      ]
     },
     "execution_count": 166,
     "metadata": {},
     "output_type": "execute_result"
    }
   ],
   "source": [
    "c = []\n",
    "c"
   ]
  },
  {
   "cell_type": "code",
   "execution_count": 167,
   "id": "d12f0adc-d4d9-443c-839a-8609939178cd",
   "metadata": {},
   "outputs": [
    {
     "name": "stdout",
     "output_type": "stream",
     "text": [
      "['mercury']\n",
      "['mercury', 'venus']\n",
      "['mercury', 'venus', 'earth']\n",
      "['mercury', 'venus', 'earth', 'mars']\n",
      "['mercury', 'venus', 'earth', 'mars', 'jupiter']\n",
      "['mercury', 'venus', 'earth', 'mars', 'jupiter', 'saturn']\n",
      "['mercury', 'venus', 'earth', 'mars', 'jupiter', 'saturn', 'uranus']\n",
      "['mercury', 'venus', 'earth', 'mars', 'jupiter', 'saturn', 'uranus', 'neptune']\n"
     ]
    }
   ],
   "source": [
    "for i in planet:\n",
    "    c.append (i)\n",
    "    print(c)\n",
    "    time.sleep(5)\n",
    "\n",
    "\n"
   ]
  },
  {
   "cell_type": "code",
   "execution_count": 170,
   "id": "f6005c2a-a673-4117-8df7-7380564dd807",
   "metadata": {},
   "outputs": [
    {
     "name": "stdout",
     "output_type": "stream",
     "text": [
      "2\n",
      "4\n",
      "6\n",
      "8\n",
      "10\n",
      "12\n",
      "14\n",
      "16\n",
      "18\n",
      "20\n"
     ]
    }
   ],
   "source": [
    "d = []\n",
    "\n",
    "for i in range(1, 11):\n",
    "    d.append(i*2)\n",
    "    print(i*2)"
   ]
  },
  {
   "cell_type": "code",
   "execution_count": 171,
   "id": "85e58fde-657d-4e37-95f3-6ff47539f2f9",
   "metadata": {},
   "outputs": [
    {
     "data": {
      "text/plain": [
       "[2, 4, 6, 8, 10, 12, 14, 16, 18, 20]"
      ]
     },
     "execution_count": 171,
     "metadata": {},
     "output_type": "execute_result"
    }
   ],
   "source": [
    "d"
   ]
  },
  {
   "cell_type": "code",
   "execution_count": 175,
   "id": "94a6beeb-1d7a-4886-a706-562afbb084f3",
   "metadata": {},
   "outputs": [
    {
     "name": "stdout",
     "output_type": "stream",
     "text": [
      "3\n",
      "6\n",
      "9\n",
      "12\n",
      "15\n",
      "18\n",
      "21\n",
      "24\n",
      "27\n",
      "30\n"
     ]
    }
   ],
   "source": [
    "e = [] \n",
    "for i in range (1,11):\n",
    "    e.append (i*3)\n",
    "    print(i*3)\n",
    "    time.sleep(3)"
   ]
  },
  {
   "cell_type": "code",
   "execution_count": 176,
   "id": "fee28db0-927d-42a5-8ee9-cd5d8d96272f",
   "metadata": {},
   "outputs": [
    {
     "data": {
      "text/plain": [
       "[3, 6, 9, 12, 15, 18, 21, 24, 27, 30]"
      ]
     },
     "execution_count": 176,
     "metadata": {},
     "output_type": "execute_result"
    }
   ],
   "source": [
    "e"
   ]
  },
  {
   "cell_type": "code",
   "execution_count": 189,
   "id": "40341120-305c-494a-9fe2-f79fc2c18592",
   "metadata": {},
   "outputs": [],
   "source": [
    "def table(j):\n",
    "    f = []\n",
    "    for i in range (1,11):\n",
    "        f.append(i*j)\n",
    "    return f"
   ]
  },
  {
   "cell_type": "code",
   "execution_count": 190,
   "id": "9bf8185c-688e-410d-a7c7-62071f098457",
   "metadata": {},
   "outputs": [
    {
     "data": {
      "text/plain": [
       "[15, 30, 45, 60, 75, 90, 105, 120, 135, 150]"
      ]
     },
     "execution_count": 190,
     "metadata": {},
     "output_type": "execute_result"
    }
   ],
   "source": [
    "table(15)"
   ]
  },
  {
   "cell_type": "code",
   "execution_count": 191,
   "id": "1b12566d-f817-43bb-b04e-516c2e12024b",
   "metadata": {},
   "outputs": [
    {
     "data": {
      "text/plain": [
       "[4, 8, 12, 16, 20, 24, 28, 32, 36, 40]"
      ]
     },
     "execution_count": 191,
     "metadata": {},
     "output_type": "execute_result"
    }
   ],
   "source": [
    "table(4)"
   ]
  },
  {
   "cell_type": "code",
   "execution_count": 192,
   "id": "405eaa70-e33d-47c4-bbf0-9c34e1b01461",
   "metadata": {},
   "outputs": [
    {
     "data": {
      "text/plain": [
       "[9, 18, 27, 36, 45, 54, 63, 72, 81, 90]"
      ]
     },
     "execution_count": 192,
     "metadata": {},
     "output_type": "execute_result"
    }
   ],
   "source": [
    "table(9)"
   ]
  },
  {
   "cell_type": "code",
   "execution_count": 214,
   "id": "16ad05eb-c48b-43da-b664-3241d13db783",
   "metadata": {},
   "outputs": [
    {
     "name": "stdout",
     "output_type": "stream",
     "text": [
      "1\n",
      "3\n",
      "5\n",
      "7\n",
      "9\n"
     ]
    }
   ],
   "source": [
    "g=[]\n",
    "for i in range (1,11,2):\n",
    "    g.append(i)\n",
    "    print (i)"
   ]
  },
  {
   "cell_type": "code",
   "execution_count": 215,
   "id": "dcda4fce-7c8d-418e-ac82-eb116d04570f",
   "metadata": {
    "scrolled": true
   },
   "outputs": [
    {
     "data": {
      "text/plain": [
       "[1, 3, 5, 7, 9]"
      ]
     },
     "execution_count": 215,
     "metadata": {},
     "output_type": "execute_result"
    }
   ],
   "source": [
    "g"
   ]
  },
  {
   "cell_type": "code",
   "execution_count": 216,
   "id": "5c8be3ba-45f7-4877-94db-8807c4b89098",
   "metadata": {},
   "outputs": [
    {
     "data": {
      "text/plain": [
       "5"
      ]
     },
     "execution_count": 216,
     "metadata": {},
     "output_type": "execute_result"
    }
   ],
   "source": [
    "len(range (2,11,2))"
   ]
  },
  {
   "cell_type": "code",
   "execution_count": 217,
   "id": "31f4f536-859d-4412-8979-a6175690fc36",
   "metadata": {},
   "outputs": [
    {
     "name": "stdout",
     "output_type": "stream",
     "text": [
      "[1, 3, 5, 7]\n",
      "[1, 3, 5]\n",
      "[1, 3]\n",
      "[1]\n",
      "[]\n"
     ]
    }
   ],
   "source": [
    "for i in range (1,11,2):\n",
    "    g.pop()\n",
    "    print(g)"
   ]
  },
  {
   "cell_type": "code",
   "execution_count": 218,
   "id": "f326b002-f336-4746-81c7-0b354bd900d1",
   "metadata": {},
   "outputs": [
    {
     "data": {
      "text/plain": [
       "[]"
      ]
     },
     "execution_count": 218,
     "metadata": {},
     "output_type": "execute_result"
    }
   ],
   "source": [
    "g"
   ]
  },
  {
   "cell_type": "code",
   "execution_count": null,
   "id": "5e051eb2-31ae-4ae0-a286-8c3f509b492e",
   "metadata": {},
   "outputs": [],
   "source": []
  }
 ],
 "metadata": {
  "kernelspec": {
   "display_name": "Python 3 (ipykernel)",
   "language": "python",
   "name": "python3"
  },
  "language_info": {
   "codemirror_mode": {
    "name": "ipython",
    "version": 3
   },
   "file_extension": ".py",
   "mimetype": "text/x-python",
   "name": "python",
   "nbconvert_exporter": "python",
   "pygments_lexer": "ipython3",
   "version": "3.10.0"
  }
 },
 "nbformat": 4,
 "nbformat_minor": 5
}
