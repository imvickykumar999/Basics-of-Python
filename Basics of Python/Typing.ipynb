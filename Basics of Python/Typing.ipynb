{
 "cells": [
  {
   "cell_type": "markdown",
   "id": "7cbe9c6e-a564-432e-8b77-40f3b2e533e0",
   "metadata": {},
   "source": [
    "# Random"
   ]
  },
  {
   "cell_type": "code",
   "execution_count": 2,
   "id": "839a0012-2657-4f77-90bc-bff36cea0b90",
   "metadata": {},
   "outputs": [],
   "source": [
    "coin = ['head', 'tail']"
   ]
  },
  {
   "cell_type": "code",
   "execution_count": 6,
   "id": "3a940e2c-929f-4c72-88d1-4e8c5f4b1dc6",
   "metadata": {},
   "outputs": [
    {
     "data": {
      "text/plain": [
       "('head', 'tail')"
      ]
     },
     "execution_count": 6,
     "metadata": {},
     "output_type": "execute_result"
    }
   ],
   "source": [
    "coin[0], coin[1]"
   ]
  },
  {
   "cell_type": "code",
   "execution_count": 7,
   "id": "b9501f87-5ee5-426d-bd69-88d613bc6fe6",
   "metadata": {},
   "outputs": [],
   "source": [
    "import random"
   ]
  },
  {
   "cell_type": "code",
   "execution_count": 85,
   "id": "027677f9-428f-421a-9197-10842f871b66",
   "metadata": {},
   "outputs": [
    {
     "data": {
      "text/plain": [
       "'tail'"
      ]
     },
     "execution_count": 85,
     "metadata": {},
     "output_type": "execute_result"
    }
   ],
   "source": [
    "random.choice(coin)"
   ]
  },
  {
   "cell_type": "code",
   "execution_count": 86,
   "id": "d48f9df4-70b6-4cdd-93c1-36dc5187ac70",
   "metadata": {},
   "outputs": [
    {
     "data": {
      "text/plain": [
       "[1, 2, 3, 4, 5, 6]"
      ]
     },
     "execution_count": 86,
     "metadata": {},
     "output_type": "execute_result"
    }
   ],
   "source": [
    "dice = list(range(1, 7))\n",
    "dice"
   ]
  },
  {
   "cell_type": "code",
   "execution_count": 87,
   "id": "112bf6bb-3f0e-4865-80ef-8b35135c0805",
   "metadata": {},
   "outputs": [
    {
     "data": {
      "text/plain": [
       "3"
      ]
     },
     "execution_count": 87,
     "metadata": {},
     "output_type": "execute_result"
    }
   ],
   "source": [
    "random.choice(dice)"
   ]
  },
  {
   "cell_type": "markdown",
   "id": "1d598930-3f48-404d-a364-4499b118f06b",
   "metadata": {},
   "source": [
    "# Functions\n",
    "\n",
    "- takes parameter, returns variable\n",
    "- takes parameter, don't return variable\n",
    "- don't take parameter, return variable\n",
    "- don't take parameter, don't return variable"
   ]
  },
  {
   "cell_type": "code",
   "execution_count": 64,
   "id": "3dbbbd66-e341-4a7c-a6ce-941680baffbc",
   "metadata": {},
   "outputs": [],
   "source": [
    "def flip_coin(var):\n",
    "    twice = var*2\n",
    "    return twice"
   ]
  },
  {
   "cell_type": "code",
   "execution_count": 76,
   "id": "4081d734-4834-4e60-9d1c-0e5b9293e86e",
   "metadata": {},
   "outputs": [
    {
     "data": {
      "text/plain": [
       "6"
      ]
     },
     "execution_count": 76,
     "metadata": {},
     "output_type": "execute_result"
    }
   ],
   "source": [
    "flip_coin(3)"
   ]
  },
  {
   "cell_type": "code",
   "execution_count": 68,
   "id": "e38d1149-e176-4fa4-b9a6-d417598c7ff1",
   "metadata": {},
   "outputs": [],
   "source": [
    "def roll_dice(var):\n",
    "    output = var*2 "
   ]
  },
  {
   "cell_type": "code",
   "execution_count": 69,
   "id": "ff323c89-b88b-43d6-a60e-1f7b9e9f0c91",
   "metadata": {},
   "outputs": [],
   "source": [
    "roll_dice(5)"
   ]
  },
  {
   "cell_type": "code",
   "execution_count": 72,
   "id": "70663cfc-bced-46b0-95a0-963731601793",
   "metadata": {},
   "outputs": [],
   "source": [
    "def abc ():\n",
    "    twice=5*3\n",
    "    return twice "
   ]
  },
  {
   "cell_type": "code",
   "execution_count": 77,
   "id": "20bd8431-64af-470d-8136-03b339ad2e0e",
   "metadata": {},
   "outputs": [
    {
     "data": {
      "text/plain": [
       "15"
      ]
     },
     "execution_count": 77,
     "metadata": {},
     "output_type": "execute_result"
    }
   ],
   "source": [
    "abc()"
   ]
  },
  {
   "cell_type": "code",
   "execution_count": 78,
   "id": "d9ce5a1c-dd0a-4a10-b1a0-3fe1e8dab8cd",
   "metadata": {},
   "outputs": [],
   "source": [
    "def efg ():\n",
    "    pass"
   ]
  },
  {
   "cell_type": "code",
   "execution_count": 79,
   "id": "d7d98d5d-ddba-41b1-b211-3e542ca9afd5",
   "metadata": {},
   "outputs": [],
   "source": [
    "efg()"
   ]
  },
  {
   "cell_type": "code",
   "execution_count": 89,
   "id": "35a2a05c-f5c4-4aeb-8949-5a70a3f6808f",
   "metadata": {},
   "outputs": [],
   "source": [
    "def roller_dice ():\n",
    "    twice =4*1 \n",
    "    return twice "
   ]
  },
  {
   "cell_type": "code",
   "execution_count": 90,
   "id": "be254320-403f-4e98-b0aa-4c084d6d100a",
   "metadata": {},
   "outputs": [
    {
     "data": {
      "text/plain": [
       "4"
      ]
     },
     "execution_count": 90,
     "metadata": {},
     "output_type": "execute_result"
    }
   ],
   "source": [
    "roller_dice() "
   ]
  },
  {
   "cell_type": "code",
   "execution_count": 144,
   "id": "b47dccb6-a425-4df6-ab59-7604b78aee38",
   "metadata": {},
   "outputs": [],
   "source": [
    "def roller_dice ():\n",
    "    import random \n",
    "    dice = [1,2,3,4,5,6]\n",
    "    output = random.choice (dice)\n",
    "    return output "
   ]
  },
  {
   "cell_type": "code",
   "execution_count": 145,
   "id": "0402ddc5-98b3-40ba-a72b-b3290bb3cf6b",
   "metadata": {},
   "outputs": [
    {
     "data": {
      "text/plain": [
       "2"
      ]
     },
     "execution_count": 145,
     "metadata": {},
     "output_type": "execute_result"
    }
   ],
   "source": [
    "roller_dice ()"
   ]
  },
  {
   "cell_type": "code",
   "execution_count": 148,
   "id": "ce87c025-7528-4345-9953-17383c5c120c",
   "metadata": {},
   "outputs": [],
   "source": [
    "def head_tail ():\n",
    "    import random \n",
    "    head_tail = ['head', 'tail']\n",
    "    output = random .choice (head_tail)\n",
    "    return output "
   ]
  },
  {
   "cell_type": "code",
   "execution_count": 158,
   "id": "24e13875-e016-4c59-b7f6-ba46c46dbe07",
   "metadata": {},
   "outputs": [
    {
     "data": {
      "text/plain": [
       "'tail'"
      ]
     },
     "execution_count": 158,
     "metadata": {},
     "output_type": "execute_result"
    }
   ],
   "source": [
    "head_tail()"
   ]
  },
  {
   "cell_type": "code",
   "execution_count": null,
   "id": "0e935ff1-03fa-4146-8189-774afe2ee7c6",
   "metadata": {},
   "outputs": [],
   "source": []
  }
 ],
 "metadata": {
  "kernelspec": {
   "display_name": "Python 3 (ipykernel)",
   "language": "python",
   "name": "python3"
  },
  "language_info": {
   "codemirror_mode": {
    "name": "ipython",
    "version": 3
   },
   "file_extension": ".py",
   "mimetype": "text/x-python",
   "name": "python",
   "nbconvert_exporter": "python",
   "pygments_lexer": "ipython3",
   "version": "3.10.0"
  }
 },
 "nbformat": 4,
 "nbformat_minor": 5
}
