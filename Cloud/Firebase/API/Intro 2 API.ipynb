{
 "cells": [
  {
   "cell_type": "code",
   "execution_count": 1,
   "metadata": {},
   "outputs": [],
   "source": [
    "# https://console.firebase.google.com/u/0/project/vickservice-36ac9/database/vickservice-36ac9-default-rtdb/data"
   ]
  },
  {
   "cell_type": "code",
   "execution_count": 5,
   "metadata": {},
   "outputs": [],
   "source": [
    "def callviews():\n",
    "    import crud\n",
    "    obj1 = crud.vicks('@Hey_Vicks', link = 'https://home-automation-336c0-default-rtdb.firebaseio.com/')\n",
    "    pageviews = obj1.pull(child = 'Views')\n",
    "    pageviews += 1\n",
    "    obj1.push(data = pageviews, child = 'Views')\n",
    "    return pageviews"
   ]
  },
  {
   "cell_type": "code",
   "execution_count": 6,
   "metadata": {},
   "outputs": [
    {
     "name": "stdout",
     "output_type": "stream",
     "text": [
      "<module 'vicksbase.firebase' from 'C:\\\\Users\\\\Vicky\\\\anaconda3\\\\lib\\\\site-packages\\\\vicksbase\\\\firebase.py'>\n",
      "################-> 04:32:36\n"
     ]
    },
    {
     "data": {
      "text/plain": [
       "5189"
      ]
     },
     "execution_count": 6,
     "metadata": {},
     "output_type": "execute_result"
    }
   ],
   "source": [
    "callviews()"
   ]
  },
  {
   "cell_type": "code",
   "execution_count": 7,
   "metadata": {},
   "outputs": [
    {
     "data": {
      "text/plain": [
       "<module 'vicksfire.firebase' from 'C:\\\\Users\\\\Vicky\\\\Desktop\\\\Repository\\\\Basics-of-Python\\\\Day 9 - API\\\\vicksfire\\\\firebase.py'>"
      ]
     },
     "execution_count": 7,
     "metadata": {},
     "output_type": "execute_result"
    }
   ],
   "source": [
    "from vicksfire import firebase as f\n",
    "f"
   ]
  },
  {
   "cell_type": "code",
   "execution_count": 2,
   "metadata": {},
   "outputs": [
    {
     "data": {
      "text/plain": [
       "<vicksfire.firebase.FirebaseApplication at 0x2291d6c0670>"
      ]
     },
     "execution_count": 2,
     "metadata": {},
     "output_type": "execute_result"
    }
   ],
   "source": [
    "firebase_obj = f.FirebaseApplication('https://chatting-c937e-default-rtdb.firebaseio.com', None)\n",
    "firebase_obj"
   ]
  },
  {
   "cell_type": "code",
   "execution_count": 3,
   "metadata": {
    "scrolled": true
   },
   "outputs": [
    {
     "data": {
      "text/plain": [
       "{'2021-08-31': {'16:51:13': {'imvickykumar999': '\\n    Experience is everything....\\n    '},\n",
       "  '20:04:13': {'imvickykumar999': \"\\n     Don't try to be what you're not.\\n    \"}},\n",
       " '2021-09-02': {'03:06:05': {'imvickykumar999': '\\n     There are 86,400 seconds per day, use it wisely.\\n    '},\n",
       "  '21:08:49': {'hellovickykumar123': \"\\n     Respect everyone's Opinion.\\n    \"}},\n",
       " '2021-09-03': {'13:32:29': {'imvickykumar999': '\\n     Perform unique mistakes.\\n    '},\n",
       "  '23:48:13': {'hellovickykumar123': '\\n         Be happy.\\n        '}},\n",
       " '2021-09-04': {'00:03:09': {'imvickykumar999': '\\n         Every day is a new day ;-)\\n        '},\n",
       "  '01:29:31': {'hellovickykumar123': '\\n         Love what you work or work what you love.\\n        '},\n",
       "  '08:41:26': {'imvickykumar999': \"\\n         Practice makes not only man perfect but woman's too 😂\\n        \"},\n",
       "  '09:42:23': {'imvickykumar999': '\\n         The Proud Rose\\r\\nThe Moral\\r\\n\\r\\nNever judge anyone by the way they look.\\r\\nOnce upon a time, in a desert far away, there was a rose who was so proud of her beautiful looks. Her only complaint was growing next to an ugly cactus.\\r\\n\\r\\nEvery day, the beautiful rose would insult and mock the cactus on his looks, all while the cactus remained quiet. All the other plants nearby tried to make the rose see sense, but she was too swayed by her own looks.\\r\\n\\r\\nOne scorching summer, the desert became dry, and there was no water left for the plants. The rose quickly began to wilt. Her beautiful petals dried up, losing their lush color.\\r\\n\\r\\nLooking to the cactus, she saw a sparrow dip his beak into the cactus to drink some water. Though ashamed, the rose asked the cactus if she could have some water. The kind cactus readily agreed, helping them both through the tough summer, as friends.\\n        '}},\n",
       " '2021-09-05': {'11:22:14': {'imvickykumar999': '\\n         Friend Helps.\\n        '}},\n",
       " '2021-09-06': {'20:07:38': {'imvickykumar999': '\\n         If you can convert any bug into feature...\\r\\n\\r\\nYou are turu programmer 😂\\n        '}},\n",
       " '2021-09-07': {'20:41:29': {'imvickykumar999': \"\\n         If you have private job then,\\r\\ncustomer's user experience matters.\\r\\n\\r\\nBut if you have government job,\\r\\ntab to bhaiya,\\r\\nuser experience jaye\\r\\nकुए  में 😂\\n        \"},\n",
       "  '21:38:43': {'imvickykumar999': '\\n        Happy Birthday\\r\\n🎁 🥳\\r\\n\\r\\nTo someone Special\\r\\n😊\\n        '}},\n",
       " '2021-09-25': {'16:35:39': {'rajivkhanduja786': '\\n         Never Give up\\n        '}},\n",
       " '2021-10-05': {'01:34:54': {'hellovickykumar123': '\\n        Shri Krishna dice, alguien que ha controlado la mente, nadie puede evitar que tenga éxito.\\n        '}},\n",
       " '2021-10-22': {'11:35:15': {'imvickykumar999': '\\n         Fir\\r\\n\\r\\nName : Ankit\\r\\nCrime : NSP\\n        '}},\n",
       " '2021-11-14': {'15:00:18': {'imvickykumar999': '\\n         testing mode ON\\n        '},\n",
       "  '15:39:30': {'imvickykumar999': '\\n         hiiiiii\\n        '}}}"
      ]
     },
     "execution_count": 3,
     "metadata": {},
     "output_type": "execute_result"
    }
   ],
   "source": [
    "result = firebase_obj.get('Group/Chat', None)\n",
    "result"
   ]
  },
  {
   "cell_type": "code",
   "execution_count": 4,
   "metadata": {},
   "outputs": [],
   "source": [
    "# firebase_obj.put('/', child, data)\n",
    "# firebase_obj.post(child, data)"
   ]
  },
  {
   "cell_type": "code",
   "execution_count": null,
   "metadata": {},
   "outputs": [],
   "source": [
    "# ======================================"
   ]
  },
  {
   "cell_type": "code",
   "execution_count": 9,
   "metadata": {},
   "outputs": [],
   "source": [
    "# https://pypi.org/project/firicks/"
   ]
  },
  {
   "cell_type": "code",
   "execution_count": 10,
   "metadata": {},
   "outputs": [
    {
     "name": "stdout",
     "output_type": "stream",
     "text": [
      "Collecting firicks\n",
      "  Downloading firicks-0.0.1.tar.gz (7.7 kB)\n",
      "Building wheels for collected packages: firicks\n",
      "  Building wheel for firicks (setup.py): started\n",
      "  Building wheel for firicks (setup.py): finished with status 'done'\n",
      "  Created wheel for firicks: filename=firicks-0.0.1-py3-none-any.whl size=9122 sha256=fd5b0172af30051bc82fe98f931db04723ceb763b4f2ceb66fd2cd49f876b178\n",
      "  Stored in directory: c:\\users\\vicky\\appdata\\local\\pip\\cache\\wheels\\30\\30\\93\\978e41317a4af376d5ca25b53a258492a03f7fdcc3650bc5f3\n",
      "Successfully built firicks\n",
      "Installing collected packages: firicks\n",
      "Successfully installed firicks-0.0.1\n"
     ]
    }
   ],
   "source": [
    "# !pip install firicks"
   ]
  },
  {
   "cell_type": "code",
   "execution_count": 11,
   "metadata": {},
   "outputs": [],
   "source": [
    "import vicks"
   ]
  },
  {
   "cell_type": "code",
   "execution_count": 14,
   "metadata": {
    "scrolled": true
   },
   "outputs": [
    {
     "name": "stdout",
     "output_type": "stream",
     "text": [
      "Help on package vicks:\n",
      "\n",
      "NAME\n",
      "    vicks\n",
      "\n",
      "PACKAGE CONTENTS\n",
      "    account\n",
      "    async_fb\n",
      "    decorators\n",
      "    firebase\n",
      "    firebase_token_generator\n",
      "    jsonutil\n",
      "    lazy\n",
      "\n",
      "FUNCTIONS\n",
      "    close_process_pool()\n",
      "        Clean up function that closes and terminates the process pool\n",
      "        defined in the ``async`` file.\n",
      "\n",
      "DATA\n",
      "    process_pool = <multiprocessing.pool.Pool state=RUN pool_size=5>\n",
      "\n",
      "FILE\n",
      "    c:\\users\\vicky\\anaconda3\\lib\\site-packages\\vicks\\__init__.py\n",
      "\n",
      "\n"
     ]
    }
   ],
   "source": [
    "help(vicks)"
   ]
  },
  {
   "cell_type": "code",
   "execution_count": 15,
   "metadata": {},
   "outputs": [
    {
     "data": {
      "text/plain": [
       "<module 'vicks.firebase' from 'C:\\\\Users\\\\Vicky\\\\anaconda3\\\\lib\\\\site-packages\\\\vicks\\\\firebase.py'>"
      ]
     },
     "execution_count": 15,
     "metadata": {},
     "output_type": "execute_result"
    }
   ],
   "source": [
    "from vicks import firebase as f\n",
    "f"
   ]
  },
  {
   "cell_type": "code",
   "execution_count": 16,
   "metadata": {},
   "outputs": [
    {
     "data": {
      "text/plain": [
       "<vicks.firebase.FirebaseApplication at 0x2291daacd60>"
      ]
     },
     "execution_count": 16,
     "metadata": {},
     "output_type": "execute_result"
    }
   ],
   "source": [
    "firebase_obj = f.FirebaseApplication('https://chatting-c937e-default-rtdb.firebaseio.com', None)\n",
    "firebase_obj"
   ]
  },
  {
   "cell_type": "code",
   "execution_count": 17,
   "metadata": {
    "scrolled": true
   },
   "outputs": [
    {
     "data": {
      "text/plain": [
       "{'2021-08-31': {'16:51:13': {'imvickykumar999': '\\n    Experience is everything....\\n    '},\n",
       "  '20:04:13': {'imvickykumar999': \"\\n     Don't try to be what you're not.\\n    \"}},\n",
       " '2021-09-02': {'03:06:05': {'imvickykumar999': '\\n     There are 86,400 seconds per day, use it wisely.\\n    '},\n",
       "  '21:08:49': {'hellovickykumar123': \"\\n     Respect everyone's Opinion.\\n    \"}},\n",
       " '2021-09-03': {'13:32:29': {'imvickykumar999': '\\n     Perform unique mistakes.\\n    '},\n",
       "  '23:48:13': {'hellovickykumar123': '\\n         Be happy.\\n        '}},\n",
       " '2021-09-04': {'00:03:09': {'imvickykumar999': '\\n         Every day is a new day ;-)\\n        '},\n",
       "  '01:29:31': {'hellovickykumar123': '\\n         Love what you work or work what you love.\\n        '},\n",
       "  '08:41:26': {'imvickykumar999': \"\\n         Practice makes not only man perfect but woman's too 😂\\n        \"},\n",
       "  '09:42:23': {'imvickykumar999': '\\n         The Proud Rose\\r\\nThe Moral\\r\\n\\r\\nNever judge anyone by the way they look.\\r\\nOnce upon a time, in a desert far away, there was a rose who was so proud of her beautiful looks. Her only complaint was growing next to an ugly cactus.\\r\\n\\r\\nEvery day, the beautiful rose would insult and mock the cactus on his looks, all while the cactus remained quiet. All the other plants nearby tried to make the rose see sense, but she was too swayed by her own looks.\\r\\n\\r\\nOne scorching summer, the desert became dry, and there was no water left for the plants. The rose quickly began to wilt. Her beautiful petals dried up, losing their lush color.\\r\\n\\r\\nLooking to the cactus, she saw a sparrow dip his beak into the cactus to drink some water. Though ashamed, the rose asked the cactus if she could have some water. The kind cactus readily agreed, helping them both through the tough summer, as friends.\\n        '}},\n",
       " '2021-09-05': {'11:22:14': {'imvickykumar999': '\\n         Friend Helps.\\n        '}},\n",
       " '2021-09-06': {'20:07:38': {'imvickykumar999': '\\n         If you can convert any bug into feature...\\r\\n\\r\\nYou are turu programmer 😂\\n        '}},\n",
       " '2021-09-07': {'20:41:29': {'imvickykumar999': \"\\n         If you have private job then,\\r\\ncustomer's user experience matters.\\r\\n\\r\\nBut if you have government job,\\r\\ntab to bhaiya,\\r\\nuser experience jaye\\r\\nकुए  में 😂\\n        \"},\n",
       "  '21:38:43': {'imvickykumar999': '\\n        Happy Birthday\\r\\n🎁 🥳\\r\\n\\r\\nTo someone Special\\r\\n😊\\n        '}},\n",
       " '2021-09-25': {'16:35:39': {'rajivkhanduja786': '\\n         Never Give up\\n        '}},\n",
       " '2021-10-05': {'01:34:54': {'hellovickykumar123': '\\n        Shri Krishna dice, alguien que ha controlado la mente, nadie puede evitar que tenga éxito.\\n        '}},\n",
       " '2021-10-22': {'11:35:15': {'imvickykumar999': '\\n         Fir\\r\\n\\r\\nName : Ankit\\r\\nCrime : NSP\\n        '}},\n",
       " '2021-11-14': {'15:00:18': {'imvickykumar999': '\\n         testing mode ON\\n        '},\n",
       "  '15:39:30': {'imvickykumar999': '\\n         hiiiiii\\n        '}}}"
      ]
     },
     "execution_count": 17,
     "metadata": {},
     "output_type": "execute_result"
    }
   ],
   "source": [
    "result = firebase_obj.get('Group/Chat', None)\n",
    "result"
   ]
  },
  {
   "cell_type": "code",
   "execution_count": null,
   "metadata": {},
   "outputs": [],
   "source": []
  }
 ],
 "metadata": {
  "kernelspec": {
   "display_name": "Python 3",
   "language": "python",
   "name": "python3"
  },
  "language_info": {
   "codemirror_mode": {
    "name": "ipython",
    "version": 3
   },
   "file_extension": ".py",
   "mimetype": "text/x-python",
   "name": "python",
   "nbconvert_exporter": "python",
   "pygments_lexer": "ipython3",
   "version": "3.8.3"
  }
 },
 "nbformat": 4,
 "nbformat_minor": 4
}
