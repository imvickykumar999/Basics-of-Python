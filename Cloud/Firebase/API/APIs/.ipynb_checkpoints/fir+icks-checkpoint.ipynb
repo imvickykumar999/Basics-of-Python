{
 "cells": [
  {
   "cell_type": "markdown",
   "metadata": {},
   "source": [
    "[![Typing SVG](http://readme-typing-svg.herokuapp.com?color=%2336BCF7&lines=pip+install+firicks)](https://pypi.org/project/firicks/)"
   ]
  },
  {
   "cell_type": "code",
   "execution_count": 1,
   "metadata": {},
   "outputs": [],
   "source": [
    "# Firebase + Vicks = Fir.ebase + V.icks - ebase+V = Fir.icks\n",
    "# !pip install firicks"
   ]
  },
  {
   "cell_type": "code",
   "execution_count": 2,
   "metadata": {},
   "outputs": [
    {
     "data": {
      "text/plain": [
       "<module 'vicks' from 'C:\\\\Users\\\\Vicky\\\\anaconda3\\\\lib\\\\site-packages\\\\vicks\\\\__init__.py'>"
      ]
     },
     "execution_count": 2,
     "metadata": {},
     "output_type": "execute_result"
    }
   ],
   "source": [
    "import vicks\n",
    "vicks"
   ]
  },
  {
   "cell_type": "code",
   "execution_count": 3,
   "metadata": {
    "scrolled": true
   },
   "outputs": [
    {
     "name": "stdout",
     "output_type": "stream",
     "text": [
      "Help on package vicks:\n",
      "\n",
      "NAME\n",
      "    vicks\n",
      "\n",
      "PACKAGE CONTENTS\n",
      "    account\n",
      "    async_fb\n",
      "    decorators\n",
      "    firebase\n",
      "    firebase_token_generator\n",
      "    jsonutil\n",
      "    lazy\n",
      "\n",
      "FUNCTIONS\n",
      "    close_process_pool()\n",
      "        Clean up function that closes and terminates the process pool\n",
      "        defined in the ``async`` file.\n",
      "\n",
      "DATA\n",
      "    process_pool = <multiprocessing.pool.Pool state=RUN pool_size=5>\n",
      "\n",
      "FILE\n",
      "    c:\\users\\vicky\\anaconda3\\lib\\site-packages\\vicks\\__init__.py\n",
      "\n",
      "\n"
     ]
    }
   ],
   "source": [
    "help(vicks) "
   ]
  },
  {
   "cell_type": "markdown",
   "metadata": {},
   "source": [
    "## [Realtime Database](https://console.firebase.google.com/u/0/project/vickservice-36ac9/database/vickservice-36ac9-default-rtdb/data)"
   ]
  },
  {
   "cell_type": "code",
   "execution_count": 4,
   "metadata": {},
   "outputs": [
    {
     "data": {
      "text/plain": [
       "<module 'vicks.firebase' from 'C:\\\\Users\\\\Vicky\\\\anaconda3\\\\lib\\\\site-packages\\\\vicks\\\\firebase.py'>"
      ]
     },
     "execution_count": 4,
     "metadata": {},
     "output_type": "execute_result"
    }
   ],
   "source": [
    "from vicks import firebase as f\n",
    "f"
   ]
  },
  {
   "cell_type": "code",
   "execution_count": 5,
   "metadata": {},
   "outputs": [
    {
     "data": {
      "text/plain": [
       "<vicks.firebase.FirebaseApplication at 0x1aed87a4fd0>"
      ]
     },
     "execution_count": 5,
     "metadata": {},
     "output_type": "execute_result"
    }
   ],
   "source": [
    "firebase_obj = f.FirebaseApplication('https://vickservice-36ac9-default-rtdb.asia-southeast1.firebasedatabase.app/', None)\n",
    "firebase_obj"
   ]
  },
  {
   "cell_type": "code",
   "execution_count": 6,
   "metadata": {},
   "outputs": [
    {
     "data": {
      "text/plain": [
       "{'-MspkxhNBc_dCptjwKGD': 53,\n",
       " '-Mspky7rFBxRyjykuSrx': 53,\n",
       " '-MspkyJALoznnjFpIF75': 53,\n",
       " '-MspqxzLiee1EkJfbUiJ': 53}"
      ]
     },
     "execution_count": 6,
     "metadata": {},
     "output_type": "execute_result"
    }
   ],
   "source": [
    "# child = 'update'\n",
    "child = 'append/app1'\n",
    "\n",
    "result = firebase_obj.get(child, None)\n",
    "result"
   ]
  },
  {
   "cell_type": "code",
   "execution_count": 7,
   "metadata": {},
   "outputs": [
    {
     "data": {
      "text/plain": [
       "dict"
      ]
     },
     "execution_count": 7,
     "metadata": {},
     "output_type": "execute_result"
    }
   ],
   "source": [
    "type(result) "
   ]
  },
  {
   "cell_type": "code",
   "execution_count": 8,
   "metadata": {},
   "outputs": [
    {
     "data": {
      "text/plain": [
       "dict_keys(['-MspkxhNBc_dCptjwKGD', '-Mspky7rFBxRyjykuSrx', '-MspkyJALoznnjFpIF75', '-MspqxzLiee1EkJfbUiJ'])"
      ]
     },
     "execution_count": 8,
     "metadata": {},
     "output_type": "execute_result"
    }
   ],
   "source": [
    "result.keys()"
   ]
  },
  {
   "cell_type": "code",
   "execution_count": 9,
   "metadata": {},
   "outputs": [
    {
     "data": {
      "text/plain": [
       "dict_values([53, 53, 53, 53])"
      ]
     },
     "execution_count": 9,
     "metadata": {},
     "output_type": "execute_result"
    }
   ],
   "source": [
    "result.values()"
   ]
  },
  {
   "cell_type": "code",
   "execution_count": 10,
   "metadata": {},
   "outputs": [
    {
     "data": {
      "text/plain": [
       "50"
      ]
     },
     "execution_count": 10,
     "metadata": {},
     "output_type": "execute_result"
    }
   ],
   "source": [
    "data = 50\n",
    "child = 'update/up1'\n",
    "\n",
    "firebase_obj.put('/', child, data)"
   ]
  },
  {
   "cell_type": "code",
   "execution_count": 11,
   "metadata": {},
   "outputs": [
    {
     "data": {
      "text/plain": [
       "{'name': '-MspzuiYJZ_Sv80HuFtH'}"
      ]
     },
     "execution_count": 11,
     "metadata": {},
     "output_type": "execute_result"
    }
   ],
   "source": [
    "data = 53\n",
    "child = 'append/app1'\n",
    "\n",
    "firebase_obj.post(child, data)"
   ]
  },
  {
   "cell_type": "code",
   "execution_count": 12,
   "metadata": {},
   "outputs": [
    {
     "data": {
      "text/plain": [
       "{'append': {'app1': {'-MspkxhNBc_dCptjwKGD': 53,\n",
       "   '-Mspky7rFBxRyjykuSrx': 53,\n",
       "   '-MspkyJALoznnjFpIF75': 53,\n",
       "   '-MspqxzLiee1EkJfbUiJ': 53,\n",
       "   '-MspzuiYJZ_Sv80HuFtH': 53}},\n",
       " 'books': {'details': {'Book1': {'Author': 'J.R.R. Tolkien',\n",
       "    'Genre': 'Epic fantasy',\n",
       "    'Price': 100,\n",
       "    'Title': 'The Fellowship of the Ring'},\n",
       "   'Book2': {'Author': 'J.R.R. Tolkien',\n",
       "    'Genre': 'Epic fantasy',\n",
       "    'Price': 100,\n",
       "    'Title': 'The Two Towers'},\n",
       "   'Book3': {'Author': 'J.R.R. Tolkien',\n",
       "    'Genre': 'Epic fantasy',\n",
       "    'Price': 100,\n",
       "    'Title': 'The Return of the King'},\n",
       "   'Book4': {'Author': 'Paulo Coelho',\n",
       "    'Genre': 'Fiction',\n",
       "    'Price': 100,\n",
       "    'Title': 'Brida'}}},\n",
       " 'instagram': {'imvickykumar999': {'photos': {'photo1': {'likes': 93}},\n",
       "   'reels': {'video1': {'likes': 50, 'views': 92},\n",
       "    'video2': {'likes': 78, 'views': 124}}}},\n",
       " 'update': {'up1': 50}}"
      ]
     },
     "execution_count": 12,
     "metadata": {},
     "output_type": "execute_result"
    }
   ],
   "source": [
    "data = firebase_obj.get('', None) \n",
    "data"
   ]
  },
  {
   "cell_type": "code",
   "execution_count": 13,
   "metadata": {},
   "outputs": [
    {
     "data": {
      "text/plain": [
       "dict"
      ]
     },
     "execution_count": 13,
     "metadata": {},
     "output_type": "execute_result"
    }
   ],
   "source": [
    "type(data)"
   ]
  },
  {
   "cell_type": "code",
   "execution_count": 14,
   "metadata": {},
   "outputs": [
    {
     "data": {
      "text/plain": [
       "{'append': {'app1': {'-MskY2jgTQx1E51y3YQM': 'ok',\n",
       "   '-MskYAfrls7TElbW5H1H': 52,\n",
       "   '-MskYkKFey_KwyusDKNF': 53}},\n",
       " 'update': {'up1': 50}}"
      ]
     },
     "execution_count": 14,
     "metadata": {},
     "output_type": "execute_result"
    }
   ],
   "source": [
    "import json\n",
    "filejson = 'vickservice-36ac9-default-rtdb-export.json'\n",
    "\n",
    "with open(filejson) as f:\n",
    "    data = json.load(f)\n",
    "\n",
    "data"
   ]
  },
  {
   "cell_type": "code",
   "execution_count": 15,
   "metadata": {},
   "outputs": [
    {
     "data": {
      "text/plain": [
       "dict"
      ]
     },
     "execution_count": 15,
     "metadata": {},
     "output_type": "execute_result"
    }
   ],
   "source": [
    "type(data)"
   ]
  },
  {
   "cell_type": "code",
   "execution_count": 16,
   "metadata": {},
   "outputs": [
    {
     "data": {
      "text/plain": [
       "['append', 'update']"
      ]
     },
     "execution_count": 16,
     "metadata": {},
     "output_type": "execute_result"
    }
   ],
   "source": [
    "dk = list(data.keys())\n",
    "dk"
   ]
  },
  {
   "cell_type": "code",
   "execution_count": 17,
   "metadata": {},
   "outputs": [
    {
     "data": {
      "text/plain": [
       "[{'app1': {'-MskY2jgTQx1E51y3YQM': 'ok',\n",
       "   '-MskYAfrls7TElbW5H1H': 52,\n",
       "   '-MskYkKFey_KwyusDKNF': 53}},\n",
       " {'up1': 50}]"
      ]
     },
     "execution_count": 17,
     "metadata": {},
     "output_type": "execute_result"
    }
   ],
   "source": [
    "dv = list(data.values())\n",
    "dv"
   ]
  },
  {
   "cell_type": "code",
   "execution_count": 18,
   "metadata": {},
   "outputs": [
    {
     "data": {
      "text/plain": [
       "{'app1': {'-MskY2jgTQx1E51y3YQM': 'ok',\n",
       "  '-MskYAfrls7TElbW5H1H': 52,\n",
       "  '-MskYkKFey_KwyusDKNF': 53}}"
      ]
     },
     "execution_count": 18,
     "metadata": {},
     "output_type": "execute_result"
    }
   ],
   "source": [
    "dv[0]"
   ]
  },
  {
   "cell_type": "code",
   "execution_count": 19,
   "metadata": {},
   "outputs": [
    {
     "data": {
      "text/plain": [
       "{'up1': 50}"
      ]
     },
     "execution_count": 19,
     "metadata": {},
     "output_type": "execute_result"
    }
   ],
   "source": [
    "dv[1]"
   ]
  },
  {
   "cell_type": "code",
   "execution_count": 20,
   "metadata": {},
   "outputs": [
    {
     "data": {
      "text/plain": [
       "['app1']"
      ]
     },
     "execution_count": 20,
     "metadata": {},
     "output_type": "execute_result"
    }
   ],
   "source": [
    "dvk = list(dv[0].keys())\n",
    "dvk"
   ]
  },
  {
   "cell_type": "code",
   "execution_count": 21,
   "metadata": {},
   "outputs": [
    {
     "data": {
      "text/plain": [
       "[{'-MskY2jgTQx1E51y3YQM': 'ok',\n",
       "  '-MskYAfrls7TElbW5H1H': 52,\n",
       "  '-MskYkKFey_KwyusDKNF': 53}]"
      ]
     },
     "execution_count": 21,
     "metadata": {},
     "output_type": "execute_result"
    }
   ],
   "source": [
    "dvv = list(dv[0].values())\n",
    "dvv"
   ]
  },
  {
   "cell_type": "code",
   "execution_count": 22,
   "metadata": {},
   "outputs": [
    {
     "data": {
      "text/plain": [
       "{'-MskY2jgTQx1E51y3YQM': 'ok',\n",
       " '-MskYAfrls7TElbW5H1H': 52,\n",
       " '-MskYkKFey_KwyusDKNF': 53}"
      ]
     },
     "execution_count": 22,
     "metadata": {},
     "output_type": "execute_result"
    }
   ],
   "source": [
    "dvv[0]"
   ]
  },
  {
   "cell_type": "code",
   "execution_count": 23,
   "metadata": {},
   "outputs": [
    {
     "data": {
      "text/plain": [
       "dict_keys(['-MskY2jgTQx1E51y3YQM', '-MskYAfrls7TElbW5H1H', '-MskYkKFey_KwyusDKNF'])"
      ]
     },
     "execution_count": 23,
     "metadata": {},
     "output_type": "execute_result"
    }
   ],
   "source": [
    "dvv[0].keys()"
   ]
  },
  {
   "cell_type": "code",
   "execution_count": 24,
   "metadata": {},
   "outputs": [
    {
     "data": {
      "text/plain": [
       "dict_values(['ok', 52, 53])"
      ]
     },
     "execution_count": 24,
     "metadata": {},
     "output_type": "execute_result"
    }
   ],
   "source": [
    "dvv[0].values()"
   ]
  },
  {
   "cell_type": "code",
   "execution_count": 25,
   "metadata": {},
   "outputs": [],
   "source": [
    "# =================================="
   ]
  },
  {
   "cell_type": "code",
   "execution_count": 26,
   "metadata": {},
   "outputs": [
    {
     "data": {
      "text/plain": [
       "50"
      ]
     },
     "execution_count": 26,
     "metadata": {},
     "output_type": "execute_result"
    }
   ],
   "source": [
    "data = 50\n",
    "child = 'instagram/imvickykumar999/reels/video1/likes'\n",
    "\n",
    "firebase_obj.put('/', child, data)"
   ]
  },
  {
   "cell_type": "code",
   "execution_count": 27,
   "metadata": {},
   "outputs": [
    {
     "data": {
      "text/plain": [
       "92"
      ]
     },
     "execution_count": 27,
     "metadata": {},
     "output_type": "execute_result"
    }
   ],
   "source": [
    "data = 92\n",
    "child = 'instagram/imvickykumar999/reels/video1/views'\n",
    "\n",
    "firebase_obj.put('/', child, data)"
   ]
  },
  {
   "cell_type": "code",
   "execution_count": 28,
   "metadata": {},
   "outputs": [
    {
     "data": {
      "text/plain": [
       "78"
      ]
     },
     "execution_count": 28,
     "metadata": {},
     "output_type": "execute_result"
    }
   ],
   "source": [
    "data = 78\n",
    "child = 'instagram/imvickykumar999/reels/video2/likes'\n",
    "\n",
    "firebase_obj.put('/', child, data)"
   ]
  },
  {
   "cell_type": "code",
   "execution_count": 29,
   "metadata": {},
   "outputs": [
    {
     "data": {
      "text/plain": [
       "124"
      ]
     },
     "execution_count": 29,
     "metadata": {},
     "output_type": "execute_result"
    }
   ],
   "source": [
    "data = 124\n",
    "child = 'instagram/imvickykumar999/reels/video2/views'\n",
    "\n",
    "firebase_obj.put('/', child, data)"
   ]
  },
  {
   "cell_type": "code",
   "execution_count": 30,
   "metadata": {},
   "outputs": [
    {
     "data": {
      "text/plain": [
       "93"
      ]
     },
     "execution_count": 30,
     "metadata": {},
     "output_type": "execute_result"
    }
   ],
   "source": [
    "data = 93\n",
    "child = 'instagram/imvickykumar999/photos/photo1/likes'\n",
    "\n",
    "firebase_obj.put('/', child, data)"
   ]
  },
  {
   "cell_type": "code",
   "execution_count": 31,
   "metadata": {},
   "outputs": [
    {
     "data": {
      "text/plain": [
       "{'append': {'app1': {'-MspkxhNBc_dCptjwKGD': 53,\n",
       "   '-Mspky7rFBxRyjykuSrx': 53,\n",
       "   '-MspkyJALoznnjFpIF75': 53,\n",
       "   '-MspqxzLiee1EkJfbUiJ': 53,\n",
       "   '-MspzuiYJZ_Sv80HuFtH': 53}},\n",
       " 'books': {'details': {'Book1': {'Author': 'J.R.R. Tolkien',\n",
       "    'Genre': 'Epic fantasy',\n",
       "    'Price': 100,\n",
       "    'Title': 'The Fellowship of the Ring'},\n",
       "   'Book2': {'Author': 'J.R.R. Tolkien',\n",
       "    'Genre': 'Epic fantasy',\n",
       "    'Price': 100,\n",
       "    'Title': 'The Two Towers'},\n",
       "   'Book3': {'Author': 'J.R.R. Tolkien',\n",
       "    'Genre': 'Epic fantasy',\n",
       "    'Price': 100,\n",
       "    'Title': 'The Return of the King'},\n",
       "   'Book4': {'Author': 'Paulo Coelho',\n",
       "    'Genre': 'Fiction',\n",
       "    'Price': 100,\n",
       "    'Title': 'Brida'}}},\n",
       " 'instagram': {'imvickykumar999': {'photos': {'photo1': {'likes': 93}},\n",
       "   'reels': {'video1': {'likes': 50, 'views': 92},\n",
       "    'video2': {'likes': 78, 'views': 124}}}},\n",
       " 'update': {'up1': 50}}"
      ]
     },
     "execution_count": 31,
     "metadata": {},
     "output_type": "execute_result"
    }
   ],
   "source": [
    "firebase_obj.get('/', None)"
   ]
  },
  {
   "cell_type": "code",
   "execution_count": 32,
   "metadata": {},
   "outputs": [],
   "source": [
    "bict = {\n",
    "    \"Book1\":\n",
    "    {\n",
    "        \"Title\": \"The Fellowship of the Ring\",\n",
    "        \"Author\": \"J.R.R. Tolkien\",\n",
    "        \"Genre\": \"Epic fantasy\",\n",
    "        \"Price\": 100\n",
    "    },\n",
    "    \"Book2\":\n",
    "    {\n",
    "        \"Title\": \"The Two Towers\",\n",
    "        \"Author\": \"J.R.R. Tolkien\",\n",
    "        \"Genre\": \"Epic fantasy\",\n",
    "        \"Price\": 100\n",
    "    },\n",
    "    \"Book3\":\n",
    "    {\n",
    "        \"Title\": \"The Return of the King\",\n",
    "        \"Author\": \"J.R.R. Tolkien\",\n",
    "        \"Genre\": \"Epic fantasy\",\n",
    "        \"Price\": 100\n",
    "    },\n",
    "    \"Book4\":\n",
    "    {\n",
    "        \"Title\": \"Brida\",\n",
    "        \"Author\": \"Paulo Coelho\",\n",
    "        \"Genre\": \"Fiction\",\n",
    "        \"Price\": 100\n",
    "    }\n",
    "}"
   ]
  },
  {
   "cell_type": "code",
   "execution_count": 33,
   "metadata": {},
   "outputs": [
    {
     "data": {
      "text/plain": [
       "{'Book1': {'Title': 'The Fellowship of the Ring',\n",
       "  'Author': 'J.R.R. Tolkien',\n",
       "  'Genre': 'Epic fantasy',\n",
       "  'Price': 100},\n",
       " 'Book2': {'Title': 'The Two Towers',\n",
       "  'Author': 'J.R.R. Tolkien',\n",
       "  'Genre': 'Epic fantasy',\n",
       "  'Price': 100},\n",
       " 'Book3': {'Title': 'The Return of the King',\n",
       "  'Author': 'J.R.R. Tolkien',\n",
       "  'Genre': 'Epic fantasy',\n",
       "  'Price': 100},\n",
       " 'Book4': {'Title': 'Brida',\n",
       "  'Author': 'Paulo Coelho',\n",
       "  'Genre': 'Fiction',\n",
       "  'Price': 100}}"
      ]
     },
     "execution_count": 33,
     "metadata": {},
     "output_type": "execute_result"
    }
   ],
   "source": [
    "bict"
   ]
  },
  {
   "cell_type": "code",
   "execution_count": 34,
   "metadata": {},
   "outputs": [
    {
     "data": {
      "text/plain": [
       "{'Book1': {'Author': 'J.R.R. Tolkien',\n",
       "  'Genre': 'Epic fantasy',\n",
       "  'Price': 100,\n",
       "  'Title': 'The Fellowship of the Ring'},\n",
       " 'Book2': {'Author': 'J.R.R. Tolkien',\n",
       "  'Genre': 'Epic fantasy',\n",
       "  'Price': 100,\n",
       "  'Title': 'The Two Towers'},\n",
       " 'Book3': {'Author': 'J.R.R. Tolkien',\n",
       "  'Genre': 'Epic fantasy',\n",
       "  'Price': 100,\n",
       "  'Title': 'The Return of the King'},\n",
       " 'Book4': {'Author': 'Paulo Coelho',\n",
       "  'Genre': 'Fiction',\n",
       "  'Price': 100,\n",
       "  'Title': 'Brida'}}"
      ]
     },
     "execution_count": 34,
     "metadata": {},
     "output_type": "execute_result"
    }
   ],
   "source": [
    "data = bict\n",
    "child = 'books/details'\n",
    "\n",
    "firebase_obj.put('/', child, data)"
   ]
  },
  {
   "cell_type": "code",
   "execution_count": 35,
   "metadata": {},
   "outputs": [
    {
     "data": {
      "text/plain": [
       "{'Book1': {'Title': 'The Fellowship of the Ring',\n",
       "  'Author': 'J.R.R. Tolkien',\n",
       "  'Genre': 'Epic fantasy',\n",
       "  'Price': 100},\n",
       " 'Book2': {'Title': 'The Two Towers',\n",
       "  'Author': 'J.R.R. Tolkien',\n",
       "  'Genre': 'Epic fantasy',\n",
       "  'Price': 100},\n",
       " 'Book3': {'Title': 'The Return of the King',\n",
       "  'Author': 'J.R.R. Tolkien',\n",
       "  'Genre': 'Epic fantasy',\n",
       "  'Price': 100},\n",
       " 'Book4': {'Title': 'Brida',\n",
       "  'Author': 'Paulo Coelho',\n",
       "  'Genre': 'Fiction',\n",
       "  'Price': 100}}"
      ]
     },
     "execution_count": 35,
     "metadata": {},
     "output_type": "execute_result"
    }
   ],
   "source": [
    "setdict = {i : bict[i] for i in bict}\n",
    "setdict"
   ]
  },
  {
   "cell_type": "code",
   "execution_count": 36,
   "metadata": {},
   "outputs": [
    {
     "data": {
      "text/plain": [
       "True"
      ]
     },
     "execution_count": 36,
     "metadata": {},
     "output_type": "execute_result"
    }
   ],
   "source": [
    "bict == setdict"
   ]
  },
  {
   "cell_type": "code",
   "execution_count": 37,
   "metadata": {},
   "outputs": [
    {
     "data": {
      "text/plain": [
       "{'Book1': {'Author': 'J.R.R. Tolkien',\n",
       "  'Genre': 'Epic fantasy',\n",
       "  'Price': 100,\n",
       "  'Title': 'The Fellowship of the Ring'},\n",
       " 'Book2': {'Author': 'J.R.R. Tolkien',\n",
       "  'Genre': 'Epic fantasy',\n",
       "  'Price': 100,\n",
       "  'Title': 'The Two Towers'},\n",
       " 'Book3': {'Author': 'J.R.R. Tolkien',\n",
       "  'Genre': 'Epic fantasy',\n",
       "  'Price': 100,\n",
       "  'Title': 'The Return of the King'},\n",
       " 'Book4': {'Author': 'Paulo Coelho',\n",
       "  'Genre': 'Fiction',\n",
       "  'Price': 100,\n",
       "  'Title': 'Brida'}}"
      ]
     },
     "execution_count": 37,
     "metadata": {},
     "output_type": "execute_result"
    }
   ],
   "source": [
    "child = 'books/details'\n",
    "\n",
    "result = firebase_obj.get(child, None)\n",
    "result"
   ]
  },
  {
   "cell_type": "code",
   "execution_count": 38,
   "metadata": {},
   "outputs": [],
   "source": [
    "false = False\n",
    "true = True\n",
    "null = None\n",
    "\n",
    "gari = {\"seo_category_infos\":[[\"Beauty\",\"beauty\"],[\"Dance and performance\",\"dance_and_performance\"],[\"Fitness\",\"fitness\"],[\"Food and drink\",\"food_and_drink\"],[\"Home and garden\",\"home_and_garden\"],[\"Music\",\"music\"],[\"Visual arts\",\"visual_arts\"]],\"logging_page_id\":\"profilePage_44647905940\",\"show_suggested_profiles\":false,\"show_follow_dialog\":false,\"graphql\":{\"user\":{\"biography\":\"\",\"blocked_by_viewer\":false,\"restricted_by_viewer\":null,\"country_block\":false,\"external_url\":null,\"external_url_linkshimmed\":null,\"edge_followed_by\":{\"count\":106},\"fbid\":\"17841444698200988\",\"followed_by_viewer\":false,\"edge_follow\":{\"count\":88},\"follows_viewer\":false,\"full_name\":\"Garima jaswani\",\"has_ar_effects\":false,\"has_clips\":true,\"has_guides\":false,\"has_channel\":false,\"has_blocked_viewer\":false,\"highlight_reel_count\":0,\"has_requested_viewer\":false,\"hide_like_and_view_counts\":false,\"id\":\"44647905940\",\"is_business_account\":false,\"is_professional_account\":false,\"is_embeds_disabled\":false,\"is_joined_recently\":false,\"business_address_json\":null,\"business_contact_method\":null,\"business_email\":null,\"business_phone_number\":null,\"business_category_name\":null,\"overall_category_name\":null,\"category_enum\":null,\"category_name\":null,\"is_private\":true,\"is_verified\":false,\"edge_mutual_followed_by\":{\"count\":0,\"edges\":[]},\"profile_pic_url\":\"https://scontent-del1-1.cdninstagram.com/v/t51.2885-19/s150x150/202057493_177548197657005_4714194369889389343_n.jpg?_nc_ht=scontent-del1-1.cdninstagram.com&_nc_cat=109&_nc_ohc=7jd9dEyWSIgAX_ZFnaz&edm=ABfd0MgBAAAA&ccb=7-4&oh=00_AT-1hh4KuGrBB_zcAP5KVP7mirz3PYrui1EMFoMJeBXuJQ&oe=61DF28AC&_nc_sid=7bff83\",\"profile_pic_url_hd\":\"https://scontent-del1-1.cdninstagram.com/v/t51.2885-19/s320x320/202057493_177548197657005_4714194369889389343_n.jpg?_nc_ht=scontent-del1-1.cdninstagram.com&_nc_cat=109&_nc_ohc=7jd9dEyWSIgAX_ZFnaz&edm=ABfd0MgBAAAA&ccb=7-4&oh=00_AT_iVKmD1bFz61AmwaeYvrnIDN29mpFnpBEQ1NYhAIaMVw&oe=61DFA154&_nc_sid=7bff83\",\"requested_by_viewer\":false,\"should_show_category\":false,\"should_show_public_contacts\":false,\"username\":\"jaswani.garima\",\"connected_fb_page\":null,\"pronouns\":[],\"edge_felix_video_timeline\":{\"count\":0,\"page_info\":{\"has_next_page\":false,\"end_cursor\":null},\"edges\":[]},\"edge_owner_to_timeline_media\":{\"count\":13,\"page_info\":{\"has_next_page\":false,\"end_cursor\":\"\"},\"edges\":[]},\"edge_saved_media\":{\"count\":0,\"page_info\":{\"has_next_page\":false,\"end_cursor\":null},\"edges\":[]},\"edge_media_collections\":{\"count\":0,\"page_info\":{\"has_next_page\":false,\"end_cursor\":null},\"edges\":[]},\"edge_related_profiles\":{\"edges\":[]}}},\"toast_content_on_load\":null,\"show_view_shop\":false,\"profile_pic_edit_sync_props\":{\"show_change_profile_pic_confirm_dialog\":false,\"show_profile_pic_sync_reminders\":false,\"identity_id\":\"\",\"remove_profile_pic_header\":null,\"remove_profile_pic_subtext\":null,\"remove_profile_pic_confirm_cta\":null,\"remove_profile_pic_cancel_cta\":null,\"is_business_central_identity\":false,\"change_profile_pic_actions_screen_header\":[\"C\",\"h\",\"a\",\"n\",\"g\",\"e\",\" \",\"p\",\"r\",\"o\",\"f\",\"i\",\"l\",\"e\",\" \",\"p\",\"h\",\"o\",\"t\",\"o\"],\"change_profile_pic_actions_screen_subheader\":[\"I\",\"n\",\"s\",\"t\",\"a\",\"g\",\"r\",\"a\",\"m\",\",\",\" \",\"F\",\"a\",\"c\",\"e\",\"b\",\"o\",\"o\",\"k\"],\"change_profile_pic_actions_screen_upload_cta\":[\"U\",\"p\",\"l\",\"o\",\"a\",\"d\",\" \",\"P\",\"h\",\"o\",\"t\",\"o\"],\"change_profile_pic_actions_screen_remove_cta\":[\"R\",\"e\",\"m\",\"o\",\"v\",\"e\",\" \",\"c\",\"u\",\"r\",\"r\",\"e\",\"n\",\"t\",\" \",\"p\",\"h\",\"o\",\"t\",\"o\"],\"change_profile_pic_actions_screen_cancel_cta\":[\"C\",\"a\",\"n\",\"c\",\"e\",\"l\"]},\"always_show_message_button_to_pro_account\":false}     "
   ]
  },
  {
   "cell_type": "code",
   "execution_count": 39,
   "metadata": {
    "scrolled": true
   },
   "outputs": [
    {
     "data": {
      "text/plain": [
       "dict_keys(['seo_category_infos', 'logging_page_id', 'show_suggested_profiles', 'show_follow_dialog', 'graphql', 'toast_content_on_load', 'show_view_shop', 'profile_pic_edit_sync_props', 'always_show_message_button_to_pro_account'])"
      ]
     },
     "execution_count": 39,
     "metadata": {},
     "output_type": "execute_result"
    }
   ],
   "source": [
    "gari.keys()"
   ]
  },
  {
   "cell_type": "code",
   "execution_count": 40,
   "metadata": {
    "scrolled": true
   },
   "outputs": [],
   "source": [
    "dp = gari['graphql']['user']['profile_pic_url_hd']\n",
    "# print(dp)"
   ]
  },
  {
   "cell_type": "markdown",
   "metadata": {},
   "source": [
    "### https://www.freecodecamp.org/news/how-to-get-started-with-firebase-using-python/"
   ]
  },
  {
   "cell_type": "code",
   "execution_count": 41,
   "metadata": {
    "scrolled": true
   },
   "outputs": [
    {
     "data": {
      "text/plain": [
       "<firebase_admin.credentials.Certificate at 0x1aed97bf8b0>"
      ]
     },
     "execution_count": 41,
     "metadata": {},
     "output_type": "execute_result"
    }
   ],
   "source": [
    "# !pip install firebase_admin\n",
    "\n",
    "import firebase_admin\n",
    "from firebase_admin import credentials\n",
    "from firebase_admin import db\n",
    "\n",
    "# Fetch the service account key JSON file contents\n",
    "cred = credentials.Certificate('vickservice-36ac9-firebase-adminsdk-ifzxv-e4df0f384c.json')\n",
    "cred"
   ]
  },
  {
   "cell_type": "code",
   "execution_count": 42,
   "metadata": {},
   "outputs": [
    {
     "data": {
      "text/plain": [
       "<firebase_admin.App at 0x1aed9aed310>"
      ]
     },
     "execution_count": 42,
     "metadata": {},
     "output_type": "execute_result"
    }
   ],
   "source": [
    "# Initialize the app with a None auth variable, limiting the server's access\n",
    "url = 'https://vickservice-36ac9-default-rtdb.asia-southeast1.firebasedatabase.app/'\n",
    "path = {'databaseURL': url}\n",
    "\n",
    "firebase_admin.initialize_app(cred, path)"
   ]
  },
  {
   "cell_type": "code",
   "execution_count": 43,
   "metadata": {
    "scrolled": false
   },
   "outputs": [
    {
     "data": {
      "text/plain": [
       "{'append': {'app1': {'-MspkxhNBc_dCptjwKGD': 53,\n",
       "   '-Mspky7rFBxRyjykuSrx': 53,\n",
       "   '-MspkyJALoznnjFpIF75': 53,\n",
       "   '-MspqxzLiee1EkJfbUiJ': 53,\n",
       "   '-MspzuiYJZ_Sv80HuFtH': 53}},\n",
       " 'books': {'details': {'Book1': {'Author': 'J.R.R. Tolkien',\n",
       "    'Genre': 'Epic fantasy',\n",
       "    'Price': 100,\n",
       "    'Title': 'The Fellowship of the Ring'},\n",
       "   'Book2': {'Author': 'J.R.R. Tolkien',\n",
       "    'Genre': 'Epic fantasy',\n",
       "    'Price': 100,\n",
       "    'Title': 'The Two Towers'},\n",
       "   'Book3': {'Author': 'J.R.R. Tolkien',\n",
       "    'Genre': 'Epic fantasy',\n",
       "    'Price': 100,\n",
       "    'Title': 'The Return of the King'},\n",
       "   'Book4': {'Author': 'Paulo Coelho',\n",
       "    'Genre': 'Fiction',\n",
       "    'Price': 100,\n",
       "    'Title': 'Brida'}}},\n",
       " 'instagram': {'imvickykumar999': {'photos': {'photo1': {'likes': 93}},\n",
       "   'reels': {'video1': {'likes': 50, 'views': 92},\n",
       "    'video2': {'likes': 78, 'views': 124}}}},\n",
       " 'update': {'up1': 50}}"
      ]
     },
     "execution_count": 43,
     "metadata": {},
     "output_type": "execute_result"
    }
   ],
   "source": [
    "# The app only has access to public data as defined in the Security Rules\n",
    "ref = db.reference('/')\n",
    "ref.get()"
   ]
  },
  {
   "cell_type": "code",
   "execution_count": 66,
   "metadata": {},
   "outputs": [],
   "source": [
    "import json\n",
    "with open(\"book_info.json\", \"r\") as f:\n",
    "    file_contents = json.load(f)\n",
    "    \n",
    "ref.set(file_contents)"
   ]
  },
  {
   "cell_type": "code",
   "execution_count": 63,
   "metadata": {},
   "outputs": [],
   "source": [
    "ref = db.reference(\"/\")\n",
    "ref.set({\n",
    "    \"Books\":\n",
    "    {\n",
    "        \"Best_Sellers\": -1\n",
    "    }\n",
    "})"
   ]
  },
  {
   "cell_type": "code",
   "execution_count": 64,
   "metadata": {},
   "outputs": [],
   "source": [
    "ref = db.reference(\"/Books/Best_Sellers\")\n",
    "\n",
    "for key, value in file_contents.items():\n",
    "    ref.push().set(value)"
   ]
  },
  {
   "cell_type": "code",
   "execution_count": 65,
   "metadata": {},
   "outputs": [
    {
     "name": "stdout",
     "output_type": "stream",
     "text": [
      "{'-Msq1qgk-XEuncV2VsxP': {'Author': 'J.R.R. Tolkien', 'Genre': 'Epic fantasy', 'Price': 100, 'Title': 'The Fellowship of the Ring'}, '-Msq1qlH-_wIoHUoOipi': {'Author': 'J.R.R. Tolkien', 'Genre': 'Epic fantasy', 'Price': 100, 'Title': 'The Two Towers'}, '-Msq1qq4cS8oaZ7ErFs7': {'Author': 'J.R.R. Tolkien', 'Genre': 'Epic fantasy', 'Price': 100, 'Title': 'The Return of the King'}, '-Msq1quETcJYoX6rp6YM': {'Author': 'Paulo Coelho', 'Genre': 'Fiction', 'Price': 100, 'Title': 'Brida'}}\n"
     ]
    }
   ],
   "source": [
    "ref = db.reference(\"/Books/Best_Sellers/\")\n",
    "best_sellers = ref.get()\n",
    "print(best_sellers)\n",
    "\n",
    "for key, value in best_sellers.items():\n",
    "    if(value[\"Author\"] == \"J.R.R. Tolkien\"):\n",
    "        value[\"Price\"] = 90\n",
    "        ref.child(key).update({\"Price\":80})"
   ]
  },
  {
   "cell_type": "code",
   "execution_count": 60,
   "metadata": {
    "scrolled": true
   },
   "outputs": [],
   "source": [
    "ref = db.reference(\"/Books/Best_Sellers\")\n",
    "\n",
    "for key, value in best_sellers.items():\n",
    "    if(value[\"Author\"] == \"J.R.R. Tolkien\"):\n",
    "        ref.child(key).set({})"
   ]
  },
  {
   "cell_type": "code",
   "execution_count": 76,
   "metadata": {},
   "outputs": [],
   "source": [
    "# ============================================"
   ]
  },
  {
   "cell_type": "code",
   "execution_count": 2,
   "metadata": {
    "scrolled": true
   },
   "outputs": [
    {
     "data": {
      "text/plain": [
       "<firebase_admin.App at 0x1ddb66e62b0>"
      ]
     },
     "execution_count": 2,
     "metadata": {},
     "output_type": "execute_result"
    }
   ],
   "source": [
    "# !pip install firebase_admin\n",
    "\n",
    "import firebase_admin\n",
    "from firebase_admin import credentials\n",
    "from firebase_admin import db\n",
    "\n",
    "# Fetch the service account key JSON file contents\n",
    "cred = credentials.Certificate('vickservice-36ac9-firebase-adminsdk-ifzxv-e4df0f384c.json')\n",
    "\n",
    "# Initialize the app with a None auth variable, limiting the server's access\n",
    "url = 'https://vickservice-36ac9-default-rtdb.asia-southeast1.firebasedatabase.app/'\n",
    "path = {'databaseURL': url}\n",
    "\n",
    "firebase_admin.initialize_app(cred, path)"
   ]
  },
  {
   "cell_type": "code",
   "execution_count": 4,
   "metadata": {},
   "outputs": [],
   "source": [
    "refv = db.reference(\"counter/views\")\n",
    "refv.set(0)"
   ]
  },
  {
   "cell_type": "code",
   "execution_count": 14,
   "metadata": {},
   "outputs": [
    {
     "data": {
      "text/plain": [
       "0"
      ]
     },
     "execution_count": 14,
     "metadata": {},
     "output_type": "execute_result"
    }
   ],
   "source": [
    "refv.get()"
   ]
  },
  {
   "cell_type": "code",
   "execution_count": 20,
   "metadata": {},
   "outputs": [
    {
     "data": {
      "text/plain": [
       "<firebase_admin.db.Reference at 0x2586f67b880>"
      ]
     },
     "execution_count": 20,
     "metadata": {},
     "output_type": "execute_result"
    }
   ],
   "source": [
    "refa = db.reference(\"counter/append\")\n",
    "refa.push(8)"
   ]
  },
  {
   "cell_type": "code",
   "execution_count": 21,
   "metadata": {},
   "outputs": [
    {
     "data": {
      "text/plain": [
       "{'-Msq3xd5nSkE4ftwRyUO': 8, '-Msq3y868sq4asYTyxhV': 8}"
      ]
     },
     "execution_count": 21,
     "metadata": {},
     "output_type": "execute_result"
    }
   ],
   "source": [
    "refa.get()"
   ]
  },
  {
   "cell_type": "code",
   "execution_count": 5,
   "metadata": {},
   "outputs": [],
   "source": [
    "refv.set(refv.get()+1)"
   ]
  },
  {
   "cell_type": "code",
   "execution_count": null,
   "metadata": {},
   "outputs": [],
   "source": []
  },
  {
   "cell_type": "code",
   "execution_count": null,
   "metadata": {},
   "outputs": [],
   "source": []
  }
 ],
 "metadata": {
  "kernelspec": {
   "display_name": "Python 3",
   "language": "python",
   "name": "python3"
  },
  "language_info": {
   "codemirror_mode": {
    "name": "ipython",
    "version": 3
   },
   "file_extension": ".py",
   "mimetype": "text/x-python",
   "name": "python",
   "nbconvert_exporter": "python",
   "pygments_lexer": "ipython3",
   "version": "3.8.3"
  }
 },
 "nbformat": 4,
 "nbformat_minor": 4
}
