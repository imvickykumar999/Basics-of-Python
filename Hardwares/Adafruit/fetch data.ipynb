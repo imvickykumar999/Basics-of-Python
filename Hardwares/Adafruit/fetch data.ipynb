{
 "cells": [
  {
   "cell_type": "code",
   "execution_count": 2,
   "metadata": {},
   "outputs": [
    {
     "name": "stdout",
     "output_type": "stream",
     "text": [
      "Collecting adafruit-io\n",
      "  Downloading adafruit-io-2.7.0.tar.gz (49 kB)\n",
      "Requirement already satisfied: requests in c:\\users\\vicky\\anaconda3\\lib\\site-packages (from adafruit-io) (2.27.1)\n",
      "Requirement already satisfied: paho-mqtt in c:\\users\\vicky\\anaconda3\\lib\\site-packages (from adafruit-io) (1.5.1)\n",
      "Requirement already satisfied: charset-normalizer~=2.0.0; python_version >= \"3\" in c:\\users\\vicky\\anaconda3\\lib\\site-packages (from requests->adafruit-io) (2.0.9)\n",
      "Requirement already satisfied: certifi>=2017.4.17 in c:\\users\\vicky\\anaconda3\\lib\\site-packages (from requests->adafruit-io) (2020.6.20)\n",
      "Requirement already satisfied: idna<4,>=2.5; python_version >= \"3\" in c:\\users\\vicky\\anaconda3\\lib\\site-packages (from requests->adafruit-io) (2.10)\n",
      "Requirement already satisfied: urllib3<1.27,>=1.21.1 in c:\\users\\vicky\\anaconda3\\lib\\site-packages (from requests->adafruit-io) (1.26.7)\n",
      "Building wheels for collected packages: adafruit-io\n",
      "  Building wheel for adafruit-io (setup.py): started\n",
      "  Building wheel for adafruit-io (setup.py): finished with status 'done'\n",
      "  Created wheel for adafruit-io: filename=adafruit_io-2.7.0-py3-none-any.whl size=22280 sha256=4d7b4659b17d13ceba26fee41952e79e09cdd0541d32d61e9aaa1c6fab19f60d\n",
      "  Stored in directory: c:\\users\\vicky\\appdata\\local\\pip\\cache\\wheels\\00\\90\\76\\80731c44a095461de35531915b5bf3a54275e4898128e54032\n",
      "Successfully built adafruit-io\n",
      "Installing collected packages: adafruit-io\n",
      "Successfully installed adafruit-io-2.7.0\n"
     ]
    }
   ],
   "source": [
    "!pip install adafruit-io"
   ]
  },
  {
   "cell_type": "code",
   "execution_count": 4,
   "metadata": {},
   "outputs": [
    {
     "data": {
      "text/plain": [
       "'0'"
      ]
     },
     "execution_count": 4,
     "metadata": {},
     "output_type": "execute_result"
    }
   ],
   "source": [
    "from Adafruit_IO import Client, Data\n",
    "aio = Client('imvickykumar999', 'aio_Uaeb12OmmgM5EjcTiNPyv1IgveRA')\n",
    "feed = 'final-year-project'\n",
    "data = aio.receive(feed).value\n",
    "data"
   ]
  },
  {
   "cell_type": "code",
   "execution_count": null,
   "metadata": {},
   "outputs": [],
   "source": []
  }
 ],
 "metadata": {
  "kernelspec": {
   "display_name": "Python 3",
   "language": "python",
   "name": "python3"
  }
 },
 "nbformat": 4,
 "nbformat_minor": 4
}
