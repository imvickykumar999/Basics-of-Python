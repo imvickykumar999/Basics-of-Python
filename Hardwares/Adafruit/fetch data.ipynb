{
 "cells": [
  {
   "cell_type": "code",
   "execution_count": 2,
   "metadata": {},
   "outputs": [
    {
     "name": "stdout",
     "output_type": "stream",
     "text": [
      "Collecting adafruit-io\n",
      "  Downloading adafruit-io-2.7.0.tar.gz (49 kB)\n",
      "Requirement already satisfied: requests in c:\\users\\vicky\\anaconda3\\lib\\site-packages (from adafruit-io) (2.27.1)\n",
      "Requirement already satisfied: paho-mqtt in c:\\users\\vicky\\anaconda3\\lib\\site-packages (from adafruit-io) (1.5.1)\n",
      "Requirement already satisfied: charset-normalizer~=2.0.0; python_version >= \"3\" in c:\\users\\vicky\\anaconda3\\lib\\site-packages (from requests->adafruit-io) (2.0.9)\n",
      "Requirement already satisfied: certifi>=2017.4.17 in c:\\users\\vicky\\anaconda3\\lib\\site-packages (from requests->adafruit-io) (2020.6.20)\n",
      "Requirement already satisfied: idna<4,>=2.5; python_version >= \"3\" in c:\\users\\vicky\\anaconda3\\lib\\site-packages (from requests->adafruit-io) (2.10)\n",
      "Requirement already satisfied: urllib3<1.27,>=1.21.1 in c:\\users\\vicky\\anaconda3\\lib\\site-packages (from requests->adafruit-io) (1.26.7)\n",
      "Building wheels for collected packages: adafruit-io\n",
      "  Building wheel for adafruit-io (setup.py): started\n",
      "  Building wheel for adafruit-io (setup.py): finished with status 'done'\n",
      "  Created wheel for adafruit-io: filename=adafruit_io-2.7.0-py3-none-any.whl size=22280 sha256=4d7b4659b17d13ceba26fee41952e79e09cdd0541d32d61e9aaa1c6fab19f60d\n",
      "  Stored in directory: c:\\users\\vicky\\appdata\\local\\pip\\cache\\wheels\\00\\90\\76\\80731c44a095461de35531915b5bf3a54275e4898128e54032\n",
      "Successfully built adafruit-io\n",
      "Installing collected packages: adafruit-io\n",
      "Successfully installed adafruit-io-2.7.0\n"
     ]
    }
   ],
   "source": [
    "!pip install adafruit-io"
   ]
  },
  {
   "cell_type": "code",
   "execution_count": 5,
   "metadata": {},
   "outputs": [
    {
     "data": {
      "text/plain": [
       "'0'"
      ]
     },
     "execution_count": 5,
     "metadata": {},
     "output_type": "execute_result"
    }
   ],
   "source": [
    "from Adafruit_IO import Client, Data\n",
    "aio = Client('imvickykumar999', 'aio_cPoQ319cPfGjKiBJ5b83oTdvSgoE')\n",
    "feed = 'final-year-project'\n",
    "data = aio.receive(feed).value\n",
    "data"
   ]
  },
  {
   "cell_type": "code",
   "execution_count": 6,
   "metadata": {},
   "outputs": [
    {
     "name": "stdout",
     "output_type": "stream",
     "text": [
      "[{\"id\":\"0F0VBBJ447Y6JSVQ37VRCFYJ6J\",\"value\":\"1\",\"feed_id\":2130606,\"feed_key\":\"final-year-project\",\"created_at\":\"2022-05-10T17:44:27Z\",\"created_epoch\":1652204667,\"expiration\":\"2022-06-09T17:44:27Z\"},{\"id\":\"0F0VAYBMJCDDAK260S2535K0FV\",\"value\":\"0\",\"feed_id\":2130606,\"feed_key\":\"final-year-project\",\"created_at\":\"2022-05-10T17:21:22Z\",\"created_epoch\":1652203282,\"expiration\":\"2022-06-09T17:21:22Z\"},{\"id\":\"0F0VAX3QK8GNVY6FPWDV6FTBH0\",\"value\":\"0\",\"feed_id\":2130606,\"feed_key\":\"final-year-project\",\"created_at\":\"2022-05-10T17:19:12Z\",\"created_epoch\":1652203152,\"expiration\":\"2022-06-09T17:19:12Z\"},{\"id\":\"0F0VAWV89DVHMMGXMV59MAMNRZ\",\"value\":\"0\",\"feed_id\":2130606,\"feed_key\":\"final-year-project\",\"created_at\":\"2022-05-10T17:18:44Z\",\"created_epoch\":1652203124,\"expiration\":\"2022-06-09T17:18:44Z\"},{\"id\":\"0F0VAWR18JMB4JJXAB53H9YS5A\",\"value\":\"0\",\"feed_id\":2130606,\"feed_key\":\"final-year-project\",\"created_at\":\"2022-05-10T17:18:33Z\",\"created_epoch\":1652203113,\"expiration\":\"2022-06-09T17:18:33Z\"},{\"id\":\"0F0V6K8PM5GFKB4JE8P6F1CM6X\",\"value\":\"1\",\"feed_id\":2130606,\"feed_key\":\"final-year-project\",\"created_at\":\"2022-05-10T13:18:18Z\",\"created_epoch\":1652188698,\"expiration\":\"2022-06-09T13:18:18Z\"},{\"id\":\"0F0V6DZECYR1SP3ZK5873N5A6P\",\"value\":\"0\",\"feed_id\":2130606,\"feed_key\":\"final-year-project\",\"created_at\":\"2022-05-10T13:09:03Z\",\"created_epoch\":1652188143,\"expiration\":\"2022-06-09T13:09:03Z\"},{\"id\":\"0F0V6DMC43GHJ1YRQPFMHE8MMV\",\"value\":\"1\",\"feed_id\":2130606,\"feed_key\":\"final-year-project\",\"created_at\":\"2022-05-10T13:08:27Z\",\"created_epoch\":1652188107,\"expiration\":\"2022-06-09T13:08:27Z\"},{\"id\":\"0F0T9AJJ6JX9ZT0KFS8NXMVRK9\",\"value\":\"0\",\"feed_id\":2130606,\"feed_key\":\"final-year-project\",\"created_at\":\"2022-05-09T10:01:18Z\",\"created_epoch\":1652090478,\"expiration\":\"2022-06-08T10:01:18Z\"},{\"id\":\"0F0RH6DQJW91GSZBSRYYDPKTZ7\",\"value\":\"1\",\"feed_id\":2130606,\"feed_key\":\"final-year-project\",\"created_at\":\"2022-05-07T05:42:18Z\",\"created_epoch\":1651902138,\"expiration\":\"2022-06-06T05:42:18Z\"},{\"id\":\"0F0R69QYBSHCHME2HGHQGFMXG2\",\"value\":\"1\",\"feed_id\":2130606,\"feed_key\":\"final-year-project\",\"created_at\":\"2022-05-06T19:32:56Z\",\"created_epoch\":1651865576,\"expiration\":\"2022-06-05T19:32:56Z\"},{\"id\":\"0F0R69DVH6F9EZTJDX92CQPERK\",\"value\":\"1\",\"feed_id\":2130606,\"feed_key\":\"final-year-project\",\"created_at\":\"2022-05-06T19:32:23Z\",\"created_epoch\":1651865543,\"expiration\":\"2022-06-05T19:32:23Z\"},{\"id\":\"0F0R69AMVWKPTAW4M5ZBQW5RQ6\",\"value\":\"0\",\"feed_id\":2130606,\"feed_key\":\"final-year-project\",\"created_at\":\"2022-05-06T19:32:13Z\",\"created_epoch\":1651865533,\"expiration\":\"2022-06-05T19:32:13Z\"},{\"id\":\"0F0R5C4DYCERP5F834PZNQZ786\",\"value\":\"0\",\"feed_id\":2130606,\"feed_key\":\"final-year-project\",\"created_at\":\"2022-05-06T18:41:12Z\",\"created_epoch\":1651862472,\"expiration\":\"2022-06-05T18:41:12Z\"},{\"id\":\"0F0R5C3GC1YBN9Y0PWRMH5Y1HM\",\"value\":\"1\",\"feed_id\":2130606,\"feed_key\":\"final-year-project\",\"created_at\":\"2022-05-06T18:41:09Z\",\"created_epoch\":1651862469,\"expiration\":\"2022-06-05T18:41:09Z\"},{\"id\":\"0F0R59V04SNGE5N0S3YZKJ6RM4\",\"value\":\"0\",\"feed_id\":2130606,\"feed_key\":\"final-year-project\",\"created_at\":\"2022-05-06T18:37:11Z\",\"created_epoch\":1651862231,\"expiration\":\"2022-06-05T18:37:11Z\"},{\"id\":\"0F0R59QA9E8F8XQDV9SS5GKQXK\",\"value\":\"1\",\"feed_id\":2130606,\"feed_key\":\"final-year-project\",\"created_at\":\"2022-05-06T18:36:59Z\",\"created_epoch\":1651862219,\"expiration\":\"2022-06-05T18:36:59Z\"},{\"id\":\"0F0R59KN5EM8VKZVS524ARKXV0\",\"value\":\"0\",\"feed_id\":2130606,\"feed_key\":\"final-year-project\",\"created_at\":\"2022-05-06T18:36:47Z\",\"created_epoch\":1651862207,\"expiration\":\"2022-06-05T18:36:47Z\"},{\"id\":\"0F0R59F75XPXV0F8ZYQCK0GE86\",\"value\":\"1\",\"feed_id\":2130606,\"feed_key\":\"final-year-project\",\"created_at\":\"2022-05-06T18:36:32Z\",\"created_epoch\":1651862192,\"expiration\":\"2022-06-05T18:36:32Z\"},{\"id\":\"0F0R4XTEQGE6H4513CHMT9FQDM\",\"value\":\"1\",\"feed_id\":2130606,\"feed_key\":\"final-year-project\",\"created_at\":\"2022-05-06T18:16:11Z\",\"created_epoch\":1651860971,\"expiration\":\"2022-06-05T18:16:11Z\"},{\"id\":\"0F0R4X5NSMAYA61ZG9MMZCRZE9\",\"value\":\"LED ON\",\"feed_id\":2130606,\"feed_key\":\"final-year-project\",\"created_at\":\"2022-05-06T18:15:03Z\",\"created_epoch\":1651860903,\"expiration\":\"2022-06-05T18:15:03Z\"}]\n"
     ]
    },
    {
     "name": "stderr",
     "output_type": "stream",
     "text": [
      "  % Total    % Received % Xferd  Average Speed   Time    Time     Time  Current\n",
      "                                 Dload  Upload   Total   Spent    Left  Speed\n",
      "\n",
      "  0     0    0     0    0     0      0      0 --:--:-- --:--:-- --:--:--     0\n",
      "  0     0    0     0    0     0      0      0 --:--:-- --:--:-- --:--:--     0\n",
      "  0     0    0     0    0     0      0      0 --:--:--  0:00:01 --:--:--     0\n",
      "  0     0    0     0    0     0      0      0 --:--:--  0:00:02 --:--:--     0\n",
      "100  4143    0  4143    0     0   1601      0 --:--:--  0:00:02 --:--:--  1601\n"
     ]
    }
   ],
   "source": [
    "!curl -H \"X-AIO-Key: aio_ZYjc70yHapW2TWl0t8VcpB7ooN2Y\" https://io.adafruit.com/api/v2/imvickykumar999/feeds/final-year-project/data      "
   ]
  },
  {
   "cell_type": "code",
   "execution_count": 11,
   "metadata": {},
   "outputs": [
    {
     "name": "stdout",
     "output_type": "stream",
     "text": [
      "{\"error\":\"request failed - invalid API key provided\"}\n"
     ]
    },
    {
     "name": "stderr",
     "output_type": "stream",
     "text": [
      "  % Total    % Received % Xferd  Average Speed   Time    Time     Time  Current\n",
      "                                 Dload  Upload   Total   Spent    Left  Speed\n",
      "\n",
      "  0     0    0     0    0     0      0      0 --:--:-- --:--:-- --:--:--     0\n",
      "  0     0    0     0    0     0      0      0 --:--:-- --:--:-- --:--:--     0\n",
      "100    53    0    53    0     0     54      0 --:--:-- --:--:-- --:--:--    54\n"
     ]
    }
   ],
   "source": [
    "!curl -H \"X-AIO-Key: aio_frzy79KB7bHN6yvNyFvRTK74shIG\" https://io.adafruit.com/api/v2/imvickykumar999/feeds/final-year-project/data?limit=1    "
   ]
  },
  {
   "cell_type": "code",
   "execution_count": null,
   "metadata": {},
   "outputs": [],
   "source": []
  }
 ],
 "metadata": {
  "kernelspec": {
   "display_name": "Python 3",
   "language": "python",
   "name": "python3"
  },
  "language_info": {
   "codemirror_mode": {
    "name": "ipython",
    "version": 3
   },
   "file_extension": ".py",
   "mimetype": "text/x-python",
   "name": "python",
   "nbconvert_exporter": "python",
   "pygments_lexer": "ipython3",
   "version": "3.8.3"
  }
 },
 "nbformat": 4,
 "nbformat_minor": 4
}
