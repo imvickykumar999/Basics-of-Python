{
 "cells": [
  {
   "cell_type": "code",
   "execution_count": 3,
   "metadata": {},
   "outputs": [
    {
     "name": "stdout",
     "output_type": "stream",
     "text": [
      " * Serving Flask app \"__main__\" (lazy loading)\n",
      " * Environment: production\n",
      "   WARNING: Do not use the development server in a production environment.\n",
      "   Use a production WSGI server instead.\n",
      " * Debug mode: on\n"
     ]
    },
    {
     "name": "stderr",
     "output_type": "stream",
     "text": [
      " * Restarting with windowsapi reloader\n"
     ]
    },
    {
     "ename": "SystemExit",
     "evalue": "1",
     "output_type": "error",
     "traceback": [
      "An exception has occurred, use %tb to see the full traceback.\n",
      "\u001b[1;31mSystemExit\u001b[0m\u001b[1;31m:\u001b[0m 1\n"
     ]
    },
    {
     "name": "stderr",
     "output_type": "stream",
     "text": [
      "C:\\Users\\Vicky\\anaconda3\\lib\\site-packages\\IPython\\core\\interactiveshell.py:3351: UserWarning: To exit: use 'exit', 'quit', or Ctrl-D.\n",
      "  warn(\"To exit: use 'exit', 'quit', or Ctrl-D.\", stacklevel=1)\n"
     ]
    }
   ],
   "source": [
    "# using flask_restful\n",
    "from flask import Flask, jsonify, request\n",
    "from flask_restful import Resource, Api\n",
    "\n",
    "# creating the flask app\n",
    "app = Flask(__name__)\n",
    "# creating an API object\n",
    "api = Api(app)\n",
    "\n",
    "# making a class for a particular resource\n",
    "# the get, post methods correspond to get and post requests\n",
    "# they are automatically mapped by flask_restful.\n",
    "# other methods include put, delete, etc.\n",
    "class Hello(Resource):\n",
    "\n",
    "    # corresponds to the GET request.\n",
    "    # this function is called whenever there\n",
    "    # is a GET request for this resource\n",
    "    def get(self):\n",
    "\n",
    "        return jsonify({'message': 'hello world'})\n",
    "\n",
    "    # Corresponds to POST request\n",
    "    def post(self):\n",
    "\n",
    "        data = request.get_json()\t # status code\n",
    "        return jsonify({'data': data}), 201\n",
    "\n",
    "\n",
    "# another resource to calculate the square of a number\n",
    "class Square(Resource):\n",
    "\n",
    "    def get(self, num):\n",
    "\n",
    "        return jsonify({'square': num**2})\n",
    "\n",
    "\n",
    "# adding the defined resources along with their corresponding urls\n",
    "api.add_resource(Hello, '/')\n",
    "api.add_resource(Square, '/square/<int:num>')\n",
    "\n",
    "\n",
    "# driver function\n",
    "if __name__ == '__main__':\n",
    "\n",
    "    app.run(debug = True)\n"
   ]
  },
  {
   "cell_type": "code",
   "execution_count": 2,
   "metadata": {},
   "outputs": [
    {
     "name": "stdout",
     "output_type": "stream",
     "text": [
      "Collecting flask_restful\n",
      "  Downloading Flask_RESTful-0.3.9-py2.py3-none-any.whl (25 kB)\n",
      "Collecting aniso8601>=0.82\n",
      "  Using cached aniso8601-9.0.1-py2.py3-none-any.whl (52 kB)\n",
      "Requirement already satisfied: six>=1.3.0 in c:\\users\\vicky\\anaconda3\\lib\\site-packages (from flask_restful) (1.15.0)\n",
      "Requirement already satisfied: pytz in c:\\users\\vicky\\anaconda3\\lib\\site-packages (from flask_restful) (2020.1)\n",
      "Requirement already satisfied: Flask>=0.8 in c:\\users\\vicky\\anaconda3\\lib\\site-packages (from flask_restful) (1.0)\n",
      "Requirement already satisfied: Jinja2>=2.10 in c:\\users\\vicky\\anaconda3\\lib\\site-packages (from Flask>=0.8->flask_restful) (2.10.1)\n",
      "Requirement already satisfied: Werkzeug>=0.14 in c:\\users\\vicky\\anaconda3\\lib\\site-packages (from Flask>=0.8->flask_restful) (0.16.0)\n",
      "Requirement already satisfied: itsdangerous>=0.24 in c:\\users\\vicky\\anaconda3\\lib\\site-packages (from Flask>=0.8->flask_restful) (0.24)\n",
      "Requirement already satisfied: click>=5.1 in c:\\users\\vicky\\anaconda3\\lib\\site-packages (from Flask>=0.8->flask_restful) (6.7)\n",
      "Requirement already satisfied: MarkupSafe>=0.23 in c:\\users\\vicky\\anaconda3\\lib\\site-packages (from Jinja2>=2.10->Flask>=0.8->flask_restful) (1.1.1)\n",
      "Installing collected packages: aniso8601, flask-restful\n",
      "Successfully installed aniso8601-9.0.1 flask-restful-0.3.9\n"
     ]
    }
   ],
   "source": [
    "# !pip install flask_restful"
   ]
  },
  {
   "cell_type": "code",
   "execution_count": null,
   "metadata": {},
   "outputs": [],
   "source": []
  }
 ],
 "metadata": {
  "kernelspec": {
   "display_name": "Python 3",
   "language": "python",
   "name": "python3"
  },
  "language_info": {
   "codemirror_mode": {
    "name": "ipython",
    "version": 3
   },
   "file_extension": ".py",
   "mimetype": "text/x-python",
   "name": "python",
   "nbconvert_exporter": "python",
   "pygments_lexer": "ipython3",
   "version": "3.8.3"
  }
 },
 "nbformat": 4,
 "nbformat_minor": 4
}
