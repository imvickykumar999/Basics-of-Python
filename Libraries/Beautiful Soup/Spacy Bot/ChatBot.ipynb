{
 "cells": [
  {
   "cell_type": "code",
   "execution_count": 2,
   "metadata": {},
   "outputs": [
    {
     "name": "stdout",
     "output_type": "stream",
     "text": [
      "U:{I\n",
      "B:{You\n",
      "Figure\n",
      "U:{VAWT\n",
      "B:{You\n",
      "U:{I\n",
      "MW\n",
      "B:{You\n",
      "U:{What\n",
      "B:{You\n",
      "B:{You\n",
      "B:{You\n",
      "rigt\n",
      "B:{You\n",
      "B:{You\n",
      "power\n",
      "B:{You\n",
      "B:{You\n"
     ]
    }
   ],
   "source": [
    "import spacy\n",
    "nlp = spacy.load('en_core_web_sm') \n",
    "\n",
    "file_name = '0001_arina.txt'\n",
    "about_text = open(file_name).read()\n",
    "about_doc = nlp(about_text)\n",
    "\n",
    "for i in about_doc:\n",
    "    if i.tag_ == 'NNP':\n",
    "        print(i)"
   ]
  },
  {
   "cell_type": "code",
   "execution_count": 4,
   "metadata": {
    "scrolled": true
   },
   "outputs": [
    {
     "name": "stdout",
     "output_type": "stream",
     "text": [
      "U:{I need to know the main components of horizontal axis wind turbines} [What main components of a wind turbine?] [Please tell me where I can find out the main components of turbine]\n",
      "B:{You can see the answer at the page 24, Figure 2.1}\n",
      "\n",
      "U:{VAWT, what does it mean?} [\"VAWT\" what is it?]\n",
      "B:{You can see the answer at the page 11, chapter 1.4, third line}\n",
      "\n",
      "U:{I need to know how much does cost energy for Multi-MW wind plant}\n",
      "B:{You can see the answer at the page 18, Table 1.4, third line}\n",
      "\n",
      "U:{What does P mean in formula of voltage variation} [I need to know what equals P in voltage variation's formula]\n",
      "B:{You can see the answer at the page 80, the second line after formula 9.4}\n",
      "\n",
      "U:{What amount of decibel wind turbine makes?}\n",
      "B:{You can see the answer at the page 9, Figure 1.6}\n",
      "\n",
      "U:{What happens with turbine when wind exceeds 25 m/s?}\n",
      "B:{You can see the answer at the page 10, rigt block, seventh line from the bottom}\n",
      "\n",
      "U:{How different wind turbines look like?}\n",
      "B:{You can see the answer at the pages 11, 12 and 13, Figures 1.8, 1.9, 1.10, 1.12, 1.13, 1.14 and 1.15}\n",
      "\n",
      "U:{Are there technologies for installing wind turbines at seashores?} [Can we make wind turbines at seashores?]\n",
      "B:{You can see the answer at the page 15, left block, fifth paragraph}\n",
      "\n",
      "U:{How many years we can use wind power plants?} [What's the usual wind power plant's lifetime?]\n",
      "B:{You can see the answer at the page 15, right block, third paragraph}\n",
      "\n",
      "U:{What distance between wind turbines we need to keep?} [Is there a perfect gap that must be between wind turbines?]\n",
      "B:{You can see the answer at the page 16, left block, second paragraph, ninth line}\n",
      "\n"
     ]
    }
   ],
   "source": [
    "print(about_text)"
   ]
  },
  {
   "cell_type": "code",
   "execution_count": 19,
   "metadata": {},
   "outputs": [
    {
     "data": {
      "text/plain": [
       "{'{I need to know the main components of horizontal axis wind turbines} [What main components of a wind turbine?] [Please tell me where I can find out the main components of turbine]': '{You can see the answer at the page 24, Figure 2.1}',\n",
       " '{VAWT, what does it mean?} [\"VAWT\" what is it?]': '{You can see the answer at the page 11, chapter 1.4, third line}',\n",
       " '{I need to know how much does cost energy for Multi-MW wind plant}': '{You can see the answer at the page 18, Table 1.4, third line}',\n",
       " \"{What does P mean in formula of voltage variation} [I need to know what equals P in voltage variation's formula]\": '{You can see the answer at the page 80, the second line after formula 9.4}',\n",
       " '{What amount of decibel wind turbine makes?}': '{You can see the answer at the page 9, Figure 1.6}',\n",
       " '{What happens with turbine when wind exceeds 25 m/s?}': '{You can see the answer at the page 10, rigt block, seventh line from the bottom}',\n",
       " '{How different wind turbines look like?}': '{You can see the answer at the pages 11, 12 and 13, Figures 1.8, 1.9, 1.10, 1.12, 1.13, 1.14 and 1.15}',\n",
       " '{Are there technologies for installing wind turbines at seashores?} [Can we make wind turbines at seashores?]': '{You can see the answer at the page 15, left block, fifth paragraph}',\n",
       " \"{How many years we can use wind power plants?} [What's the usual wind power plant's lifetime?]\": '{You can see the answer at the page 15, right block, third paragraph}',\n",
       " '{What distance between wind turbines we need to keep?} [Is there a perfect gap that must be between wind turbines?]': '{You can see the answer at the page 16, left block, second paragraph, ninth line}'}"
      ]
     },
     "execution_count": 19,
     "metadata": {},
     "output_type": "execute_result"
    }
   ],
   "source": [
    "a = about_text.split('U:')\n",
    "d = {}\n",
    "\n",
    "for i in range(1, len(a)):\n",
    "    b = a[i].split('B:')\n",
    "    d.update({b[0].strip() : b[1].strip()})\n",
    "\n",
    "d"
   ]
  },
  {
   "cell_type": "code",
   "execution_count": 54,
   "metadata": {},
   "outputs": [
    {
     "data": {
      "text/plain": [
       "'{You can see the answer at the page 10, rigt block, seventh line from the bottom}'"
      ]
     },
     "execution_count": 54,
     "metadata": {},
     "output_type": "execute_result"
    }
   ],
   "source": [
    "query = 'What happens with turbine when wind exceeds 25 m/s?'\n",
    "ans = nlp(query).ents[0]\n",
    "s=[]\n",
    "\n",
    "for i in d:\n",
    "    for j in nlp(i).ents:\n",
    "        if (str(ans).strip() == str(j).strip()):       \n",
    "            s.append(d[i])\n",
    "            \n",
    "list(set(s))[0]"
   ]
  },
  {
   "cell_type": "code",
   "execution_count": 55,
   "metadata": {},
   "outputs": [],
   "source": [
    "# ====================================="
   ]
  },
  {
   "cell_type": "code",
   "execution_count": 61,
   "metadata": {},
   "outputs": [
    {
     "name": "stdout",
     "output_type": "stream",
     "text": [
      "{You can see the answer at the page 18, Table 1.4, third line}\n"
     ]
    }
   ],
   "source": [
    "import spacy\n",
    "nlp = spacy.load('en_core_web_sm') \n",
    "\n",
    "file_name = '0001_arina.txt'\n",
    "about_text = open(file_name).read()\n",
    "\n",
    "a = about_text.split('U:')\n",
    "d = {}\n",
    "\n",
    "for i in range(1, len(a)):\n",
    "    b = a[i].split('B:')\n",
    "    d.update({b[0].strip() : b[1].strip()})\n",
    "    \n",
    "# query = 'What happens with turbine when wind exceeds 25 m/s?'\n",
    "# query = 'VAWT, what does it mean?'\n",
    "query = 'I need to know how much does cost energy for Multi-MW wind plant'\n",
    "# query = input('Write your question : ')\n",
    "\n",
    "try:\n",
    "    ans = nlp(query).ents[0]\n",
    "    s=[]\n",
    "\n",
    "    for i in d:\n",
    "        for j in nlp(i).ents:\n",
    "            if (str(ans).strip() == str(j).strip()):       \n",
    "                s.append(d[i])\n",
    "\n",
    "    ans = list(set(s))[0]\n",
    "    print(ans)\n",
    "except:\n",
    "    print('Sorry, Unable to answer this query...')"
   ]
  },
  {
   "cell_type": "code",
   "execution_count": null,
   "metadata": {},
   "outputs": [],
   "source": []
  }
 ],
 "metadata": {
  "kernelspec": {
   "display_name": "Python 3",
   "language": "python",
   "name": "python3"
  },
  "language_info": {
   "codemirror_mode": {
    "name": "ipython",
    "version": 3
   },
   "file_extension": ".py",
   "mimetype": "text/x-python",
   "name": "python",
   "nbconvert_exporter": "python",
   "pygments_lexer": "ipython3",
   "version": "3.8.3"
  }
 },
 "nbformat": 4,
 "nbformat_minor": 4
}
