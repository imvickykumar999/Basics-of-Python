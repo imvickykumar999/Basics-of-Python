{
 "cells": [
  {
   "cell_type": "code",
   "execution_count": 12,
   "metadata": {},
   "outputs": [],
   "source": [
    "from bs4 import BeautifulSoup\n",
    "import requests\n",
    "\n",
    "url = 'https://ideationology.herokuapp.com/profile/imvickykumar999#vickscroll/'\n",
    "r = requests.get(url)\n",
    "soup = BeautifulSoup(r.content, 'html.parser')"
   ]
  },
  {
   "cell_type": "code",
   "execution_count": 14,
   "metadata": {},
   "outputs": [
    {
     "data": {
      "text/plain": [
       "[<div class=\"alert alert-primary\" role=\"alert\">\n",
       " <a class=\"navbar-brand\" href=\"/\" style=\"color:blue;\">\n",
       " <strong>\n",
       "                   Attendance\n",
       "                 </strong>\n",
       " </a>\n",
       " </div>,\n",
       " <div class=\"alert alert-primary\" role=\"alert\">\n",
       " <li class=\"nav-item dropdown\">\n",
       " <a aria-expanded=\"false\" aria-haspopup=\"true\" class=\"nav-link dropdown-toggle\" data-toggle=\"dropdown\" href=\"#\" id=\"navbarDropdown\" role=\"button\" style=\"color:red;\">\n",
       " <strong>Profile</strong>\n",
       " </a>\n",
       " <div aria-labelledby=\"navbarDropdown\" class=\"dropdown-menu\">\n",
       " <a class=\"dropdown-item\" href=\"/signup\" style=\"color:blue;\"><strong>Signup</strong></a>\n",
       " <div class=\"dropdown-divider\"></div>\n",
       " <a class=\"dropdown-item\" href=\"/login\" style=\"color:green;\"><strong>Login</strong></a>\n",
       " </div>\n",
       " </li>\n",
       " </div>,\n",
       " <div class=\"alert alert-primary\" role=\"alert\">\n",
       " <h2 style=\"color: red;\">\n",
       " <strong>\n",
       "                   --- Bio ---\n",
       "                 </strong>\n",
       " </h2>\n",
       " <h3 style=\"color: blue;\">ðŸŒ·samjhi kya ? ... ðŸ”¥ hai mai ðŸ˜œ</h3>\n",
       " </div>]"
      ]
     },
     "execution_count": 14,
     "metadata": {},
     "output_type": "execute_result"
    }
   ],
   "source": [
    "a = soup.findAll('div', attrs = {'class':'alert alert-primary'})\n",
    "a"
   ]
  },
  {
   "cell_type": "code",
   "execution_count": null,
   "metadata": {},
   "outputs": [],
   "source": []
  }
 ],
 "metadata": {
  "kernelspec": {
   "display_name": "Python 3",
   "language": "python",
   "name": "python3"
  },
  "language_info": {
   "codemirror_mode": {
    "name": "ipython",
    "version": 3
   },
   "file_extension": ".py",
   "mimetype": "text/x-python",
   "name": "python",
   "nbconvert_exporter": "python",
   "pygments_lexer": "ipython3",
   "version": "3.8.3"
  }
 },
 "nbformat": 4,
 "nbformat_minor": 4
}
