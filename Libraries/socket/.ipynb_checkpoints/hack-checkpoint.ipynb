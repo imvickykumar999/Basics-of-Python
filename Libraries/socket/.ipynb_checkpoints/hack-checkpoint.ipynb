{
 "cells": [
  {
   "cell_type": "code",
   "execution_count": 1,
   "metadata": {},
   "outputs": [],
   "source": [
    "import threading\n",
    "import mouse\n",
    "import keyboard\n",
    "\n",
    "mouse_events = []\n",
    "\n",
    "mouse.hook(mouse_events.append)\n",
    "keyboard.start_recording()\n",
    "\n",
    "keyboard.wait(\"*\")\n",
    "\n",
    "mouse.unhook(mouse_events.append)\n",
    "keyboard_events = keyboard.stop_recording()\n",
    "\n",
    "#Keyboard threadings:\n",
    "\n",
    "k_thread = threading.Thread(target = lambda :keyboard.play(keyboard_events))\n",
    "k_thread.start()\n",
    "\n",
    "#Mouse threadings:\n",
    "\n",
    "m_thread = threading.Thread(target = lambda :mouse.play(mouse_events))\n",
    "m_thread.start()\n",
    "\n",
    "#waiting for both threadings to be completed\n",
    "\n",
    "k_thread.join() \n",
    "m_thread.join()"
   ]
  },
  {
   "cell_type": "code",
   "execution_count": 2,
   "metadata": {},
   "outputs": [
    {
     "name": "stdout",
     "output_type": "stream",
     "text": [
      "Collecting mouse\n",
      "  Downloading mouse-0.7.1-py2.py3-none-any.whl (16 kB)\n",
      "Installing collected packages: mouse\n",
      "Successfully installed mouse-0.7.1\n"
     ]
    }
   ],
   "source": [
    "!pip install mouse"
   ]
  },
  {
   "cell_type": "code",
   "execution_count": null,
   "metadata": {},
   "outputs": [],
   "source": []
  }
 ],
 "metadata": {
  "kernelspec": {
   "display_name": "Python 3",
   "language": "python",
   "name": "python3"
  },
  "language_info": {
   "codemirror_mode": {
    "name": "ipython",
    "version": 3
   },
   "file_extension": ".py",
   "mimetype": "text/x-python",
   "name": "python",
   "nbconvert_exporter": "python",
   "pygments_lexer": "ipython3",
   "version": "3.8.3"
  }
 },
 "nbformat": 4,
 "nbformat_minor": 4
}
