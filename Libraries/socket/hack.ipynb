{
 "cells": [
  {
   "cell_type": "code",
   "execution_count": 1,
   "metadata": {},
   "outputs": [],
   "source": [
    "import threading\n",
    "import mouse\n",
    "import keyboard\n",
    "\n",
    "mouse_events = []\n",
    "\n",
    "mouse.hook(mouse_events.append)\n",
    "keyboard.start_recording()\n",
    "\n",
    "keyboard.wait(\"*\")\n",
    "\n",
    "mouse.unhook(mouse_events.append)\n",
    "keyboard_events = keyboard.stop_recording()\n",
    "\n",
    "#Keyboard threadings:\n",
    "\n",
    "k_thread = threading.Thread(target = lambda :keyboard.play(keyboard_events))\n",
    "k_thread.start()\n",
    "\n",
    "#Mouse threadings:\n",
    "\n",
    "m_thread = threading.Thread(target = lambda :mouse.play(mouse_events))\n",
    "m_thread.start()\n",
    "\n",
    "#waiting for both threadings to be completed\n",
    "\n",
    "k_thread.join() \n",
    "m_thread.join()"
   ]
  },
  {
   "cell_type": "code",
   "execution_count": 2,
   "metadata": {},
   "outputs": [
    {
     "name": "stdout",
     "output_type": "stream",
     "text": [
      "Collecting mouse\n",
      "  Downloading mouse-0.7.1-py2.py3-none-any.whl (16 kB)\n",
      "Installing collected packages: mouse\n",
      "Successfully installed mouse-0.7.1\n"
     ]
    }
   ],
   "source": [
    "!pip install mouse"
   ]
  },
  {
   "cell_type": "code",
   "execution_count": 3,
   "metadata": {
    "scrolled": true
   },
   "outputs": [
    {
     "data": {
      "text/plain": [
       "[MoveEvent(x=653, y=422, time=1644690486.135067),\n",
       " MoveEvent(x=649, y=426, time=1644690486.1425047),\n",
       " MoveEvent(x=638, y=434, time=1644690486.151506),\n",
       " MoveEvent(x=627, y=445, time=1644690486.1586998),\n",
       " MoveEvent(x=612, y=465, time=1644690486.1674488),\n",
       " MoveEvent(x=602, y=487, time=1644690486.1746955),\n",
       " MoveEvent(x=588, y=507, time=1644690486.18322),\n",
       " MoveEvent(x=575, y=536, time=1644690486.1905246),\n",
       " MoveEvent(x=557, y=566, time=1644690486.1985245),\n",
       " MoveEvent(x=538, y=600, time=1644690486.2069016),\n",
       " MoveEvent(x=522, y=632, time=1644690486.215233),\n",
       " MoveEvent(x=507, y=659, time=1644690486.2225924),\n",
       " MoveEvent(x=496, y=684, time=1644690486.2309022),\n",
       " MoveEvent(x=488, y=705, time=1644690486.2392683),\n",
       " MoveEvent(x=481, y=721, time=1644690486.2465894),\n",
       " MoveEvent(x=475, y=735, time=1644690486.2553666),\n",
       " MoveEvent(x=470, y=745, time=1644690486.2634473),\n",
       " MoveEvent(x=467, y=754, time=1644690486.2707136),\n",
       " MoveEvent(x=466, y=761, time=1644690486.2790415),\n",
       " MoveEvent(x=464, y=767, time=1644690486.287313),\n",
       " MoveEvent(x=464, y=768, time=1644690486.2956386),\n",
       " MoveEvent(x=464, y=771, time=1644690486.3029914),\n",
       " MoveEvent(x=463, y=773, time=1644690486.3113034),\n",
       " MoveEvent(x=463, y=773, time=1644690486.326538),\n",
       " MoveEvent(x=463, y=774, time=1644690486.3349845),\n",
       " MoveEvent(x=463, y=775, time=1644690486.3433511),\n",
       " MoveEvent(x=463, y=776, time=1644690486.3507235),\n",
       " MoveEvent(x=463, y=778, time=1644690486.3591492),\n",
       " MoveEvent(x=463, y=779, time=1644690486.3748126),\n",
       " MoveEvent(x=463, y=780, time=1644690486.383176),\n",
       " MoveEvent(x=463, y=782, time=1644690486.399003),\n",
       " MoveEvent(x=464, y=785, time=1644690486.4071047),\n",
       " MoveEvent(x=465, y=786, time=1644690486.4155343),\n",
       " MoveEvent(x=470, y=792, time=1644690486.4228196),\n",
       " MoveEvent(x=473, y=794, time=1644690486.431221),\n",
       " MoveEvent(x=478, y=797, time=1644690486.4395113),\n",
       " MoveEvent(x=483, y=798, time=1644690486.4470973),\n",
       " MoveEvent(x=489, y=802, time=1644690486.4550977),\n",
       " MoveEvent(x=493, y=802, time=1644690486.463103),\n",
       " MoveEvent(x=496, y=802, time=1644690486.471099),\n",
       " MoveEvent(x=498, y=802, time=1644690486.479282),\n",
       " MoveEvent(x=499, y=802, time=1644690486.487559),\n",
       " MoveEvent(x=500, y=802, time=1644690486.4948833),\n",
       " MoveEvent(x=501, y=802, time=1644690486.503229),\n",
       " MoveEvent(x=502, y=802, time=1644690486.543331),\n",
       " MoveEvent(x=503, y=802, time=1644690486.5675113),\n",
       " ButtonEvent(event_type='down', button='left', time=1644690486.7121925),\n",
       " ButtonEvent(event_type='up', button='left', time=1644690486.8075392),\n",
       " MoveEvent(x=503, y=802, time=1644690486.8712995)]"
      ]
     },
     "execution_count": 3,
     "metadata": {},
     "output_type": "execute_result"
    }
   ],
   "source": [
    "mouse_events"
   ]
  },
  {
   "cell_type": "code",
   "execution_count": 4,
   "metadata": {},
   "outputs": [
    {
     "data": {
      "text/plain": [
       "[KeyboardEvent(* down)]"
      ]
     },
     "execution_count": 4,
     "metadata": {},
     "output_type": "execute_result"
    }
   ],
   "source": [
    "keyboard_events"
   ]
  },
  {
   "cell_type": "code",
   "execution_count": 18,
   "metadata": {},
   "outputs": [],
   "source": [
    "mouse.play(mouse_events)"
   ]
  },
  {
   "cell_type": "code",
   "execution_count": 15,
   "metadata": {},
   "outputs": [],
   "source": [
    "# keyboard.play(keyboard_events)"
   ]
  },
  {
   "cell_type": "code",
   "execution_count": 21,
   "metadata": {
    "scrolled": true
   },
   "outputs": [
    {
     "data": {
      "text/plain": [
       "[KeyboardEvent(right shift up),\n",
       " KeyboardEvent(enter up),\n",
       " KeyboardEvent(i down),\n",
       " KeyboardEvent(i up),\n",
       " KeyboardEvent(m down),\n",
       " KeyboardEvent(m up),\n",
       " KeyboardEvent(v down),\n",
       " KeyboardEvent(v up),\n",
       " KeyboardEvent(i down),\n",
       " KeyboardEvent(i up),\n",
       " KeyboardEvent(c down),\n",
       " KeyboardEvent(c up),\n",
       " KeyboardEvent(k down),\n",
       " KeyboardEvent(k up),\n",
       " KeyboardEvent(y down),\n",
       " KeyboardEvent(y up),\n",
       " KeyboardEvent(k down),\n",
       " KeyboardEvent(k up),\n",
       " KeyboardEvent(u down),\n",
       " KeyboardEvent(u up),\n",
       " KeyboardEvent(m down),\n",
       " KeyboardEvent(m up),\n",
       " KeyboardEvent(a down),\n",
       " KeyboardEvent(a up),\n",
       " KeyboardEvent(r down),\n",
       " KeyboardEvent(r up),\n",
       " KeyboardEvent(9 down),\n",
       " KeyboardEvent(9 up),\n",
       " KeyboardEvent(9 down),\n",
       " KeyboardEvent(9 up),\n",
       " KeyboardEvent(9 down),\n",
       " KeyboardEvent(9 up),\n",
       " KeyboardEvent(space down),\n",
       " KeyboardEvent(space up),\n",
       " KeyboardEvent(* down)]"
      ]
     },
     "execution_count": 21,
     "metadata": {},
     "output_type": "execute_result"
    }
   ],
   "source": [
    "import mouse\n",
    "import keyboard\n",
    "\n",
    "mouse_events = []\n",
    "\n",
    "mouse.hook(mouse_events.append)\n",
    "keyboard.start_recording()\n",
    "\n",
    "keyboard.wait(\"*\")\n",
    "\n",
    "mouse.unhook(mouse_events.append)\n",
    "keyboard_events = keyboard.stop_recording()\n",
    "keyboard_events"
   ]
  },
  {
   "cell_type": "code",
   "execution_count": 19,
   "metadata": {},
   "outputs": [],
   "source": [
    "# imvickykumar999 *"
   ]
  },
  {
   "cell_type": "code",
   "execution_count": 23,
   "metadata": {},
   "outputs": [],
   "source": [
    "keyboard.play(keyboard_events)"
   ]
  },
  {
   "cell_type": "code",
   "execution_count": null,
   "metadata": {},
   "outputs": [],
   "source": []
  }
 ],
 "metadata": {
  "kernelspec": {
   "display_name": "Python 3",
   "language": "python",
   "name": "python3"
  },
  "language_info": {
   "codemirror_mode": {
    "name": "ipython",
    "version": 3
   },
   "file_extension": ".py",
   "mimetype": "text/x-python",
   "name": "python",
   "nbconvert_exporter": "python",
   "pygments_lexer": "ipython3",
   "version": "3.8.3"
  }
 },
 "nbformat": 4,
 "nbformat_minor": 4
}
